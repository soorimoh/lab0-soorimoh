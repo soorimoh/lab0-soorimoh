{
  "nbformat": 4,
  "nbformat_minor": 0,
  "metadata": {
    "colab": {
      "name": "Laboratory 2_soorim",
      "provenance": [],
      "authorship_tag": "ABX9TyMV6MW3eJfmR6FIZkuuVDri",
      "include_colab_link": true
    },
    "kernelspec": {
      "name": "python3",
      "display_name": "Python 3"
    }
  },
  "cells": [
    {
      "cell_type": "markdown",
      "metadata": {
        "id": "view-in-github",
        "colab_type": "text"
      },
      "source": [
        "<a href=\"https://colab.research.google.com/github/soorimoh/lab0-soorimoh/blob/master/Laboratory_2_soorim.ipynb\" target=\"_parent\"><img src=\"https://colab.research.google.com/assets/colab-badge.svg\" alt=\"Open In Colab\"/></a>"
      ]
    },
    {
      "cell_type": "markdown",
      "metadata": {
        "id": "7o2-o7bmMqPI"
      },
      "source": [
        "# Laboratory #2\n",
        "\n",
        "* Name: Soorim Oh\n",
        "* Student ID: 202021104\n",
        "\n",
        "Answer the questions or complete the tasks below, use the specific method described if applicable."
      ]
    },
    {
      "cell_type": "markdown",
      "metadata": {
        "id": "kHS2KhmFMrjN"
      },
      "source": [
        "**What is 9 to the power of 6?**"
      ]
    },
    {
      "cell_type": "code",
      "metadata": {
        "id": "zm7hKdblMkXj",
        "outputId": "504a34d9-f3e5-49dc-e642-870a26f25168",
        "colab": {
          "base_uri": "https://localhost:8080/"
        }
      },
      "source": [
        "9**6"
      ],
      "execution_count": 1,
      "outputs": [
        {
          "output_type": "execute_result",
          "data": {
            "text/plain": [
              "531441"
            ]
          },
          "metadata": {
            "tags": []
          },
          "execution_count": 1
        }
      ]
    },
    {
      "cell_type": "markdown",
      "metadata": {
        "id": "_ACT-uUtMt-p"
      },
      "source": [
        "**Split this string:**\n",
        "\n",
        "    st = \"Modeling of Estimation for Weather Change!\"\n",
        "    \n",
        "**into a list.**"
      ]
    },
    {
      "cell_type": "code",
      "metadata": {
        "id": "cfXwPl4uMuoY"
      },
      "source": [
        "st = \"Modeling of Estimation for Weather Change!\""
      ],
      "execution_count": 2,
      "outputs": []
    },
    {
      "cell_type": "code",
      "metadata": {
        "id": "lhh7oB81MzF6",
        "outputId": "84271f1e-40fe-41b0-de24-b5517ebdc7d3",
        "colab": {
          "base_uri": "https://localhost:8080/"
        }
      },
      "source": [
        "st.split(\" \")"
      ],
      "execution_count": 3,
      "outputs": [
        {
          "output_type": "execute_result",
          "data": {
            "text/plain": [
              "['Modeling', 'of', 'Estimation', 'for', 'Weather', 'Change!']"
            ]
          },
          "metadata": {
            "tags": []
          },
          "execution_count": 3
        }
      ]
    },
    {
      "cell_type": "markdown",
      "metadata": {
        "id": "YcL6_U7jM0D_"
      },
      "source": [
        "**Given the variables:**\n",
        "\n",
        "    space_station = \"Death Star I\"\n",
        "    diameter = 120\n",
        "\n",
        "**Use .format() to print the following string:**\n",
        "\n",
        "    The diameter of Death Star I is 120 kilometers."
      ]
    },
    {
      "cell_type": "code",
      "metadata": {
        "id": "rz0ag-E3MzDj"
      },
      "source": [
        "space_station = \"Death Star I\"\n",
        "diameter = 120"
      ],
      "execution_count": 4,
      "outputs": []
    },
    {
      "cell_type": "code",
      "metadata": {
        "id": "2M_WwNveMzBD",
        "outputId": "b2330741-f8a6-45a7-ef3c-2bd87ae9fd42",
        "colab": {
          "base_uri": "https://localhost:8080/"
        }
      },
      "source": [
        "print(\"The diameter of \", end = space_station)\n",
        "print(\" is 120 kilometers\", end = \".\")"
      ],
      "execution_count": 5,
      "outputs": [
        {
          "output_type": "stream",
          "text": [
            "The diameter of Death Star I is 120 kilometers."
          ],
          "name": "stdout"
        }
      ]
    },
    {
      "cell_type": "markdown",
      "metadata": {
        "id": "3bEVyYj6M3Wv"
      },
      "source": [
        "**Given this nested list, use indexing to grab the word \"Weather Change!\"**"
      ]
    },
    {
      "cell_type": "code",
      "metadata": {
        "id": "slsSWXlAMy-f"
      },
      "source": [
        "lst = [12,13,[14,15],[16,[17,18,['Weather Change!']],19,20],21,22]"
      ],
      "execution_count": 6,
      "outputs": []
    },
    {
      "cell_type": "code",
      "metadata": {
        "id": "bkTf5jkeM6ah",
        "outputId": "c93d4e18-35b9-4037-f5a8-1ad2f6ccdc6c",
        "colab": {
          "base_uri": "https://localhost:8080/",
          "height": 35
        }
      },
      "source": [
        "lst[3][1][2][0]"
      ],
      "execution_count": 7,
      "outputs": [
        {
          "output_type": "execute_result",
          "data": {
            "application/vnd.google.colaboratory.intrinsic+json": {
              "type": "string"
            },
            "text/plain": [
              "'Weather Change!'"
            ]
          },
          "metadata": {
            "tags": []
          },
          "execution_count": 7
        }
      ]
    },
    {
      "cell_type": "markdown",
      "metadata": {
        "id": "njZGPwFrMt8a"
      },
      "source": [
        "**Given this nest dictionary grab the word \"Weather Change!\". Be prepared, this will be annoying/tricky**"
      ]
    },
    {
      "cell_type": "code",
      "metadata": {
        "id": "iWRNywjxM9o5"
      },
      "source": [
        "d = {'key1':[1,2,3,{'key1_1':['Modeling','of','Estimation',{'key1_2':[1,2,3,'Weather Change!']}]}]}"
      ],
      "execution_count": 8,
      "outputs": []
    },
    {
      "cell_type": "code",
      "metadata": {
        "id": "SwVaEqy-M_eg",
        "outputId": "4483dc11-feea-4bb2-e8c7-994b80f40473",
        "colab": {
          "base_uri": "https://localhost:8080/",
          "height": 35
        }
      },
      "source": [
        "d['key1'][3]['key1_1'][3]['key1_2'][3]"
      ],
      "execution_count": 9,
      "outputs": [
        {
          "output_type": "execute_result",
          "data": {
            "application/vnd.google.colaboratory.intrinsic+json": {
              "type": "string"
            },
            "text/plain": [
              "'Weather Change!'"
            ]
          },
          "metadata": {
            "tags": []
          },
          "execution_count": 9
        }
      ]
    },
    {
      "cell_type": "markdown",
      "metadata": {
        "id": "ODo_evkJMt50"
      },
      "source": [
        "** What is the main difference between a tuple and a list?**"
      ]
    },
    {
      "cell_type": "code",
      "metadata": {
        "id": "FPgnM5JzNCl1"
      },
      "source": [
        "# Tuple is immutable"
      ],
      "execution_count": 10,
      "outputs": []
    },
    {
      "cell_type": "markdown",
      "metadata": {
        "id": "Bw5KbyY_Mt3W"
      },
      "source": [
        "**Create a function that grabs the user id from an email address from a string in the form:**\n",
        "\n",
        "    user@domain.com\n",
        "    \n",
        "**So for example, passing \"user@domain.com\" would return: user**"
      ]
    },
    {
      "cell_type": "code",
      "metadata": {
        "id": "BN9jGkshNFyQ"
      },
      "source": [
        "def userGet(email):\n",
        "  return email.split('@')[0]"
      ],
      "execution_count": 11,
      "outputs": []
    },
    {
      "cell_type": "code",
      "metadata": {
        "id": "x6YP5G4ONGmW",
        "outputId": "352a2b49-0349-4c41-e6f5-8ef3c848ca8c",
        "colab": {
          "base_uri": "https://localhost:8080/",
          "height": 35
        }
      },
      "source": [
        "userGet('user@domain.com')"
      ],
      "execution_count": 12,
      "outputs": [
        {
          "output_type": "execute_result",
          "data": {
            "application/vnd.google.colaboratory.intrinsic+json": {
              "type": "string"
            },
            "text/plain": [
              "'user'"
            ]
          },
          "metadata": {
            "tags": []
          },
          "execution_count": 12
        }
      ]
    },
    {
      "cell_type": "markdown",
      "metadata": {
        "id": "92pWy2wnNJiF"
      },
      "source": [
        "**Create a basic function that returns True if the word 'weather' is contained in the input string. ('weather' or 'Weather')**"
      ]
    },
    {
      "cell_type": "code",
      "metadata": {
        "id": "vzhCYulRNGrW"
      },
      "source": [
        "def findWeather(st):\n",
        "  return 'weather' in st.lower().split()"
      ],
      "execution_count": 13,
      "outputs": []
    },
    {
      "cell_type": "code",
      "metadata": {
        "id": "ZMCcmonLNGpC",
        "outputId": "c69c1a7f-bed4-41e3-c570-80f70125fcd8",
        "colab": {
          "base_uri": "https://localhost:8080/"
        }
      },
      "source": [
        "findWeather('Is there a Weather in this sentence?')"
      ],
      "execution_count": 14,
      "outputs": [
        {
          "output_type": "execute_result",
          "data": {
            "text/plain": [
              "True"
            ]
          },
          "metadata": {
            "tags": []
          },
          "execution_count": 14
        }
      ]
    },
    {
      "cell_type": "markdown",
      "metadata": {
        "id": "bPlX82c9NOQd"
      },
      "source": [
        "**Create a function that counts the number of times the word \"weather\" occurs in a string. Ignore edge cases.**"
      ]
    },
    {
      "cell_type": "code",
      "metadata": {
        "id": "BmkXxwSlNGj1"
      },
      "source": [
        "def countWeather(st):\n",
        "  count = 0\n",
        "  for word in st.lower().split():\n",
        "    if word == 'weather':\n",
        "      count += 1\n",
        "  return count"
      ],
      "execution_count": 15,
      "outputs": []
    },
    {
      "cell_type": "code",
      "metadata": {
        "id": "mW2RX9HMNRnq",
        "outputId": "196516fc-08d7-4e29-a68b-8a601a567793",
        "colab": {
          "base_uri": "https://localhost:8080/"
        }
      },
      "source": [
        "countWeather('This weather is better than the weather of yesterday!')"
      ],
      "execution_count": 16,
      "outputs": [
        {
          "output_type": "execute_result",
          "data": {
            "text/plain": [
              "2"
            ]
          },
          "metadata": {
            "tags": []
          },
          "execution_count": 16
        }
      ]
    },
    {
      "cell_type": "markdown",
      "metadata": {
        "id": "RqvEU8SSNS-g"
      },
      "source": [
        "**Use lambda expressions and the filter() function to filter out words from a list that don't start with the letter 'w'. For example:**\n",
        "\n",
        "    seq = ['dog','apple','word','weather','funny']\n",
        "\n",
        "**should be filtered down to:**\n",
        "\n",
        "    ['word','weather']"
      ]
    },
    {
      "cell_type": "code",
      "metadata": {
        "id": "CgyVWLwcNU5T"
      },
      "source": [
        "seq = ['dog','apple','word','weather','funny']"
      ],
      "execution_count": 17,
      "outputs": []
    },
    {
      "cell_type": "code",
      "metadata": {
        "id": "YfkzpldhNVaf",
        "outputId": "8338a4ca-5303-4e7d-bb03-cbbe0a435851",
        "colab": {
          "base_uri": "https://localhost:8080/"
        }
      },
      "source": [
        "list(filter(lambda word: word[0]=='w',seq))"
      ],
      "execution_count": 18,
      "outputs": [
        {
          "output_type": "execute_result",
          "data": {
            "text/plain": [
              "['word', 'weather']"
            ]
          },
          "metadata": {
            "tags": []
          },
          "execution_count": 18
        }
      ]
    },
    {
      "cell_type": "markdown",
      "metadata": {
        "id": "Lbso4gXiNZHd"
      },
      "source": [
        "**Write a Python function to reverse a string**\n",
        "\n",
        "    s = '1234567890abcdefghijk' \n",
        "\n",
        "**should be shown:**\n",
        "\n",
        "    'kjihgfedcba0987654321'"
      ]
    },
    {
      "cell_type": "code",
      "metadata": {
        "id": "9ryws8xdNVdJ",
        "outputId": "fd23b015-bf10-4932-ec88-ee8baa138fe1",
        "colab": {
          "base_uri": "https://localhost:8080/"
        }
      },
      "source": [
        "def string_reverse(str):\n",
        "  rstr = ''\n",
        "  index = len(str)\n",
        "  while index > 0:\n",
        "      rstr += str[index -1]\n",
        "      index = index -1\n",
        "  return rstr\n",
        "print(string_reverse)"
      ],
      "execution_count": 19,
      "outputs": [
        {
          "output_type": "stream",
          "text": [
            "<function string_reverse at 0x7f8e82ae76a8>\n"
          ],
          "name": "stdout"
        }
      ]
    },
    {
      "cell_type": "code",
      "metadata": {
        "id": "PSXFf49UNVX7",
        "outputId": "9da40906-bf3e-4258-ecea-e2ac7f6b6c65",
        "colab": {
          "base_uri": "https://localhost:8080/",
          "height": 35
        }
      },
      "source": [
        "s = '1234567890abcdefghijk'\n",
        "string_reverse(s)"
      ],
      "execution_count": 20,
      "outputs": [
        {
          "output_type": "execute_result",
          "data": {
            "application/vnd.google.colaboratory.intrinsic+json": {
              "type": "string"
            },
            "text/plain": [
              "'kjihgfedcba0987654321'"
            ]
          },
          "metadata": {
            "tags": []
          },
          "execution_count": 20
        }
      ]
    },
    {
      "cell_type": "code",
      "metadata": {
        "id": "6XGxwJwHNcMc",
        "outputId": "2715b3e8-564b-4147-fde2-a77c093ea4a1",
        "colab": {
          "base_uri": "https://localhost:8080/",
          "height": 35
        }
      },
      "source": [
        "string_reverse('RADAR')"
      ],
      "execution_count": 21,
      "outputs": [
        {
          "output_type": "execute_result",
          "data": {
            "application/vnd.google.colaboratory.intrinsic+json": {
              "type": "string"
            },
            "text/plain": [
              "'RADAR'"
            ]
          },
          "metadata": {
            "tags": []
          },
          "execution_count": 21
        }
      ]
    },
    {
      "cell_type": "code",
      "metadata": {
        "id": "TY0oFjD6NcPP",
        "outputId": "09c17117-8658-43a5-8006-a3193f4463b6",
        "colab": {
          "base_uri": "https://localhost:8080/",
          "height": 35
        }
      },
      "source": [
        "string_reverse('Laboratory 2')"
      ],
      "execution_count": 22,
      "outputs": [
        {
          "output_type": "execute_result",
          "data": {
            "application/vnd.google.colaboratory.intrinsic+json": {
              "type": "string"
            },
            "text/plain": [
              "'2 yrotarobaL'"
            ]
          },
          "metadata": {
            "tags": []
          },
          "execution_count": 22
        }
      ]
    },
    {
      "cell_type": "markdown",
      "metadata": {
        "id": "W0tIrPDENeJ5"
      },
      "source": [
        "# You finished your laboratory. Congratulations!~"
      ]
    },
    {
      "cell_type": "markdown",
      "metadata": {
        "id": "AWHKFC7HNftj"
      },
      "source": [
        "### Numpy\n",
        "Install : conda install numpy pip install numpy\n",
        "\n"
      ]
    },
    {
      "cell_type": "code",
      "metadata": {
        "id": "6ExWzgQVNcJ0"
      },
      "source": [
        "import numpy as np"
      ],
      "execution_count": 23,
      "outputs": []
    },
    {
      "cell_type": "markdown",
      "metadata": {
        "id": "LFn4ZM1iNjpR"
      },
      "source": [
        "## Numpy Arrays\n",
        "Vectors, arrays, matrices, and number generation\n",
        "Numpy arrays : vectors and matrices.\n",
        "Vectors: 1-d arrays\n",
        "Matrices: 2-d arrays"
      ]
    },
    {
      "cell_type": "markdown",
      "metadata": {
        "id": "WGmN3c5kNoLP"
      },
      "source": [
        "### Creating Numpy Arrays"
      ]
    },
    {
      "cell_type": "code",
      "metadata": {
        "id": "fLwR9PBsNlAj"
      },
      "source": [
        "my_list = [1,2,3,4]"
      ],
      "execution_count": 24,
      "outputs": []
    },
    {
      "cell_type": "code",
      "metadata": {
        "id": "YMT5TcJCNlk4",
        "outputId": "87425045-a7fc-4375-fc1d-dc5792b3242a",
        "colab": {
          "base_uri": "https://localhost:8080/"
        }
      },
      "source": [
        "print(my_list)"
      ],
      "execution_count": 25,
      "outputs": [
        {
          "output_type": "stream",
          "text": [
            "[1, 2, 3, 4]\n"
          ],
          "name": "stdout"
        }
      ]
    },
    {
      "cell_type": "code",
      "metadata": {
        "id": "jfdcsI4lNlpL",
        "outputId": "4bf11aa4-eab5-41a2-8b14-2d81abc5e84a",
        "colab": {
          "base_uri": "https://localhost:8080/"
        }
      },
      "source": [
        "np.array(my_list)"
      ],
      "execution_count": 26,
      "outputs": [
        {
          "output_type": "execute_result",
          "data": {
            "text/plain": [
              "array([1, 2, 3, 4])"
            ]
          },
          "metadata": {
            "tags": []
          },
          "execution_count": 26
        }
      ]
    },
    {
      "cell_type": "code",
      "metadata": {
        "id": "yz__RdFINlv0",
        "outputId": "0610ec2d-82c5-4bb4-c425-f70501202f83",
        "colab": {
          "base_uri": "https://localhost:8080/"
        }
      },
      "source": [
        "my_matrix = [(1,2,3),(4,5,6),(7,8,9)] # 3x3\n",
        "print(my_matrix)"
      ],
      "execution_count": 27,
      "outputs": [
        {
          "output_type": "stream",
          "text": [
            "[(1, 2, 3), (4, 5, 6), (7, 8, 9)]\n"
          ],
          "name": "stdout"
        }
      ]
    },
    {
      "cell_type": "code",
      "metadata": {
        "id": "JHmsvPFbNl0E",
        "outputId": "ba3c7cf5-c3a3-413d-f558-f6286076beb1",
        "colab": {
          "base_uri": "https://localhost:8080/"
        }
      },
      "source": [
        "np.array(my_matrix)"
      ],
      "execution_count": 28,
      "outputs": [
        {
          "output_type": "execute_result",
          "data": {
            "text/plain": [
              "array([[1, 2, 3],\n",
              "       [4, 5, 6],\n",
              "       [7, 8, 9]])"
            ]
          },
          "metadata": {
            "tags": []
          },
          "execution_count": 28
        }
      ]
    },
    {
      "cell_type": "code",
      "metadata": {
        "id": "v3X38lvlNlyb",
        "outputId": "774413c9-3f12-40e3-a075-7579a6fd40f6",
        "colab": {
          "base_uri": "https://localhost:8080/",
          "height": 172
        }
      },
      "source": [
        "arr.reshape(4,4)"
      ],
      "execution_count": 31,
      "outputs": [
        {
          "output_type": "error",
          "ename": "NameError",
          "evalue": "ignored",
          "traceback": [
            "\u001b[0;31m---------------------------------------------------------------------------\u001b[0m",
            "\u001b[0;31mNameError\u001b[0m                                 Traceback (most recent call last)",
            "\u001b[0;32m<ipython-input-31-966f28412ea6>\u001b[0m in \u001b[0;36m<module>\u001b[0;34m()\u001b[0m\n\u001b[0;32m----> 1\u001b[0;31m \u001b[0marr\u001b[0m\u001b[0;34m.\u001b[0m\u001b[0mreshape\u001b[0m\u001b[0;34m(\u001b[0m\u001b[0;36m4\u001b[0m\u001b[0;34m,\u001b[0m\u001b[0;36m4\u001b[0m\u001b[0;34m)\u001b[0m\u001b[0;34m\u001b[0m\u001b[0;34m\u001b[0m\u001b[0m\n\u001b[0m",
            "\u001b[0;31mNameError\u001b[0m: name 'arr' is not defined"
          ]
        }
      ]
    },
    {
      "cell_type": "markdown",
      "metadata": {
        "id": "EqEP0Vl3OqN8"
      },
      "source": [
        "## Built-in Methods\n",
        "### arange\n",
        "Return evenly spaced values within a given interval."
      ]
    },
    {
      "cell_type": "code",
      "metadata": {
        "id": "RQ8hNGMMNlri",
        "outputId": "8c0491b0-80ac-433b-e5c2-02f26710dba1",
        "colab": {
          "base_uri": "https://localhost:8080/"
        }
      },
      "source": [
        "np.arange(0,10)    #[0,10)"
      ],
      "execution_count": 32,
      "outputs": [
        {
          "output_type": "execute_result",
          "data": {
            "text/plain": [
              "array([0, 1, 2, 3, 4, 5, 6, 7, 8, 9])"
            ]
          },
          "metadata": {
            "tags": []
          },
          "execution_count": 32
        }
      ]
    },
    {
      "cell_type": "code",
      "metadata": {
        "id": "IxceFgHZOse0",
        "outputId": "107105e1-ff0b-4de0-f200-d63e97db8f91",
        "colab": {
          "base_uri": "https://localhost:8080/"
        }
      },
      "source": [
        "np.arange(0,11,2)"
      ],
      "execution_count": 33,
      "outputs": [
        {
          "output_type": "execute_result",
          "data": {
            "text/plain": [
              "array([ 0,  2,  4,  6,  8, 10])"
            ]
          },
          "metadata": {
            "tags": []
          },
          "execution_count": 33
        }
      ]
    },
    {
      "cell_type": "code",
      "metadata": {
        "id": "dqYRtqnROsmo"
      },
      "source": [
        "### zeros and ones"
      ],
      "execution_count": 34,
      "outputs": []
    },
    {
      "cell_type": "code",
      "metadata": {
        "id": "bekSoyTFOsj8",
        "outputId": "f5d34e56-5482-48f2-9522-56f0ba1ee84a",
        "colab": {
          "base_uri": "https://localhost:8080/"
        }
      },
      "source": [
        "np.zeros(3)"
      ],
      "execution_count": 35,
      "outputs": [
        {
          "output_type": "execute_result",
          "data": {
            "text/plain": [
              "array([0., 0., 0.])"
            ]
          },
          "metadata": {
            "tags": []
          },
          "execution_count": 35
        }
      ]
    },
    {
      "cell_type": "code",
      "metadata": {
        "id": "d_cYYvo3Nlm7",
        "outputId": "43a4f053-2fcd-4626-a58e-44765a1def0d",
        "colab": {
          "base_uri": "https://localhost:8080/"
        }
      },
      "source": [
        "np.zeros((5,5))"
      ],
      "execution_count": 36,
      "outputs": [
        {
          "output_type": "execute_result",
          "data": {
            "text/plain": [
              "array([[0., 0., 0., 0., 0.],\n",
              "       [0., 0., 0., 0., 0.],\n",
              "       [0., 0., 0., 0., 0.],\n",
              "       [0., 0., 0., 0., 0.],\n",
              "       [0., 0., 0., 0., 0.]])"
            ]
          },
          "metadata": {
            "tags": []
          },
          "execution_count": 36
        }
      ]
    },
    {
      "cell_type": "code",
      "metadata": {
        "id": "OVMpNULBNliZ",
        "outputId": "19c32ef4-1a66-4fb1-aaad-1cc320a0ac93",
        "colab": {
          "base_uri": "https://localhost:8080/"
        }
      },
      "source": [
        "np.ones(3)"
      ],
      "execution_count": 37,
      "outputs": [
        {
          "output_type": "execute_result",
          "data": {
            "text/plain": [
              "array([1., 1., 1.])"
            ]
          },
          "metadata": {
            "tags": []
          },
          "execution_count": 37
        }
      ]
    },
    {
      "cell_type": "code",
      "metadata": {
        "id": "vLyYMuXNOykh",
        "outputId": "22d8d001-e711-48c0-fede-16f2ea344c46",
        "colab": {
          "base_uri": "https://localhost:8080/"
        }
      },
      "source": [
        "np.ones((4,4))"
      ],
      "execution_count": 38,
      "outputs": [
        {
          "output_type": "execute_result",
          "data": {
            "text/plain": [
              "array([[1., 1., 1., 1.],\n",
              "       [1., 1., 1., 1.],\n",
              "       [1., 1., 1., 1.],\n",
              "       [1., 1., 1., 1.]])"
            ]
          },
          "metadata": {
            "tags": []
          },
          "execution_count": 38
        }
      ]
    },
    {
      "cell_type": "markdown",
      "metadata": {
        "id": "B2lw02bJO0ZH"
      },
      "source": [
        "### linspace\n",
        "Returns evenly spaced numbers over a specified interval"
      ]
    },
    {
      "cell_type": "code",
      "metadata": {
        "id": "zWllNK_pOype",
        "outputId": "0ccf7592-4629-4ca7-8cfd-dfe321749e3d",
        "colab": {
          "base_uri": "https://localhost:8080/"
        }
      },
      "source": [
        "np.linspace(0,10,3)    #[0,10]"
      ],
      "execution_count": 39,
      "outputs": [
        {
          "output_type": "execute_result",
          "data": {
            "text/plain": [
              "array([ 0.,  5., 10.])"
            ]
          },
          "metadata": {
            "tags": []
          },
          "execution_count": 39
        }
      ]
    },
    {
      "cell_type": "code",
      "metadata": {
        "id": "JxARim1JOyuU",
        "outputId": "80109afb-7f28-44b9-eae0-d3662cfa188b",
        "colab": {
          "base_uri": "https://localhost:8080/"
        }
      },
      "source": [
        "np.linspace(0,10,50)"
      ],
      "execution_count": 40,
      "outputs": [
        {
          "output_type": "execute_result",
          "data": {
            "text/plain": [
              "array([ 0.        ,  0.20408163,  0.40816327,  0.6122449 ,  0.81632653,\n",
              "        1.02040816,  1.2244898 ,  1.42857143,  1.63265306,  1.83673469,\n",
              "        2.04081633,  2.24489796,  2.44897959,  2.65306122,  2.85714286,\n",
              "        3.06122449,  3.26530612,  3.46938776,  3.67346939,  3.87755102,\n",
              "        4.08163265,  4.28571429,  4.48979592,  4.69387755,  4.89795918,\n",
              "        5.10204082,  5.30612245,  5.51020408,  5.71428571,  5.91836735,\n",
              "        6.12244898,  6.32653061,  6.53061224,  6.73469388,  6.93877551,\n",
              "        7.14285714,  7.34693878,  7.55102041,  7.75510204,  7.95918367,\n",
              "        8.16326531,  8.36734694,  8.57142857,  8.7755102 ,  8.97959184,\n",
              "        9.18367347,  9.3877551 ,  9.59183673,  9.79591837, 10.        ])"
            ]
          },
          "metadata": {
            "tags": []
          },
          "execution_count": 40
        }
      ]
    },
    {
      "cell_type": "code",
      "metadata": {
        "id": "Lt_8OWTFOyy8",
        "outputId": "24d85363-a331-4e0e-d452-7a7e14f4d879",
        "colab": {
          "base_uri": "https://localhost:8080/"
        }
      },
      "source": [
        "np.linspace(0,16,16)"
      ],
      "execution_count": 41,
      "outputs": [
        {
          "output_type": "execute_result",
          "data": {
            "text/plain": [
              "array([ 0.        ,  1.06666667,  2.13333333,  3.2       ,  4.26666667,\n",
              "        5.33333333,  6.4       ,  7.46666667,  8.53333333,  9.6       ,\n",
              "       10.66666667, 11.73333333, 12.8       , 13.86666667, 14.93333333,\n",
              "       16.        ])"
            ]
          },
          "metadata": {
            "tags": []
          },
          "execution_count": 41
        }
      ]
    },
    {
      "cell_type": "markdown",
      "metadata": {
        "id": "WC_x3SPcO5f1"
      },
      "source": [
        "### eye"
      ]
    },
    {
      "cell_type": "code",
      "metadata": {
        "id": "BwDQHp5mOy1k",
        "outputId": "8e8723f3-6e19-4d5f-8f4a-028dec9c9869",
        "colab": {
          "base_uri": "https://localhost:8080/"
        }
      },
      "source": [
        "np.eye(4)"
      ],
      "execution_count": 42,
      "outputs": [
        {
          "output_type": "execute_result",
          "data": {
            "text/plain": [
              "array([[1., 0., 0., 0.],\n",
              "       [0., 1., 0., 0.],\n",
              "       [0., 0., 1., 0.],\n",
              "       [0., 0., 0., 1.]])"
            ]
          },
          "metadata": {
            "tags": []
          },
          "execution_count": 42
        }
      ]
    },
    {
      "cell_type": "markdown",
      "metadata": {
        "id": "8FEjxYszO8PV"
      },
      "source": [
        "## Random \n",
        "### rand"
      ]
    },
    {
      "cell_type": "code",
      "metadata": {
        "id": "Iy6J9bJ6OywW",
        "outputId": "304e473f-0b8b-488e-c2ee-1628b721df48",
        "colab": {
          "base_uri": "https://localhost:8080/"
        }
      },
      "source": [
        "np.random.rand(2)    #[0,1)"
      ],
      "execution_count": 43,
      "outputs": [
        {
          "output_type": "execute_result",
          "data": {
            "text/plain": [
              "array([0.78436643, 0.99950577])"
            ]
          },
          "metadata": {
            "tags": []
          },
          "execution_count": 43
        }
      ]
    },
    {
      "cell_type": "code",
      "metadata": {
        "id": "dm8VRgEvOyrv",
        "outputId": "c31319af-a6b9-4fd5-d142-48e544e76cf2",
        "colab": {
          "base_uri": "https://localhost:8080/"
        }
      },
      "source": [
        "np.random.rand(5,5)"
      ],
      "execution_count": 44,
      "outputs": [
        {
          "output_type": "execute_result",
          "data": {
            "text/plain": [
              "array([[0.80012355, 0.48305277, 0.454448  , 0.80120099, 0.02714308],\n",
              "       [0.94580648, 0.85146931, 0.87865586, 0.05737945, 0.8338544 ],\n",
              "       [0.61479539, 0.29289453, 0.63404079, 0.21955086, 0.28321158],\n",
              "       [0.35115162, 0.26018458, 0.46981452, 0.28851759, 0.45493416],\n",
              "       [0.35776003, 0.28540883, 0.56266107, 0.1389113 , 0.73983795]])"
            ]
          },
          "metadata": {
            "tags": []
          },
          "execution_count": 44
        }
      ]
    },
    {
      "cell_type": "markdown",
      "metadata": {
        "id": "pEtV1wgcO_0A"
      },
      "source": [
        "### randint"
      ]
    },
    {
      "cell_type": "code",
      "metadata": {
        "id": "6eXRoOG9Oynh",
        "outputId": "6c27c7ea-37fc-49fe-842a-95619d63cd89",
        "colab": {
          "base_uri": "https://localhost:8080/"
        }
      },
      "source": [
        "np.random.randint(1,1000)  #[1,100)"
      ],
      "execution_count": 45,
      "outputs": [
        {
          "output_type": "execute_result",
          "data": {
            "text/plain": [
              "730"
            ]
          },
          "metadata": {
            "tags": []
          },
          "execution_count": 45
        }
      ]
    },
    {
      "cell_type": "code",
      "metadata": {
        "id": "ZiTPS5g3Oyhv",
        "outputId": "0b3ac1d5-87c3-4fb6-f542-e8803d8e72d7",
        "colab": {
          "base_uri": "https://localhost:8080/"
        }
      },
      "source": [
        "np.random.randint(1,100,10)"
      ],
      "execution_count": 46,
      "outputs": [
        {
          "output_type": "execute_result",
          "data": {
            "text/plain": [
              "array([94, 68, 34, 19, 82, 42, 48, 39, 14, 11])"
            ]
          },
          "metadata": {
            "tags": []
          },
          "execution_count": 46
        }
      ]
    }
  ]
}