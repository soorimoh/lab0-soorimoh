{
  "nbformat": 4,
  "nbformat_minor": 0,
  "metadata": {
    "colab": {
      "name": "homework_soorimoh.ipynb",
      "provenance": [],
      "authorship_tag": "ABX9TyPOhYTmOSfuEFhgGfAw0/zD",
      "include_colab_link": true
    },
    "kernelspec": {
      "name": "python3",
      "display_name": "Python 3"
    }
  },
  "cells": [
    {
      "cell_type": "markdown",
      "metadata": {
        "id": "view-in-github",
        "colab_type": "text"
      },
      "source": [
        "<a href=\"https://colab.research.google.com/github/soorimoh/lab0-soorimoh/blob/master/homework_soorimoh.ipynb\" target=\"_parent\"><img src=\"https://colab.research.google.com/assets/colab-badge.svg\" alt=\"Open In Colab\"/></a>"
      ]
    },
    {
      "cell_type": "markdown",
      "metadata": {
        "id": "5M99L4klBUsR"
      },
      "source": [
        "### homework 1 : Use list comprehension in the upper code"
      ]
    },
    {
      "cell_type": "code",
      "metadata": {
        "id": "vAzr17KMF4CJ",
        "outputId": "b165067b-edf0-479e-a258-68b49c95b6f0",
        "colab": {
          "base_uri": "https://localhost:8080/",
          "height": 34
        }
      },
      "source": [
        "h_letters = []\n",
        "for letter in 'weather change' :\n",
        "  h_letters.append(letter)\n",
        "print(h_letters)"
      ],
      "execution_count": 5,
      "outputs": [
        {
          "output_type": "stream",
          "text": [
            "['w', 'e', 'a', 't', 'h', 'e', 'r', ' ', 'c', 'h', 'a', 'n', 'g', 'e']\n"
          ],
          "name": "stdout"
        }
      ]
    },
    {
      "cell_type": "code",
      "metadata": {
        "id": "M_DJDhLFBFzu",
        "outputId": "b4399328-c8df-4a38-943f-acbec10fa2eb",
        "colab": {
          "base_uri": "https://localhost:8080/",
          "height": 34
        }
      },
      "source": [
        "h_letters = [letter for letter in 'weather change']\n",
        "print(h_letters)"
      ],
      "execution_count": 6,
      "outputs": [
        {
          "output_type": "stream",
          "text": [
            "['w', 'e', 'a', 't', 'h', 'e', 'r', ' ', 'c', 'h', 'a', 'n', 'g', 'e']\n"
          ],
          "name": "stdout"
        }
      ]
    },
    {
      "cell_type": "code",
      "metadata": {
        "id": "ZnKPayiSGUMn",
        "outputId": "960cfc3d-b7ae-4931-b176-097cba80b0c7",
        "colab": {
          "base_uri": "https://localhost:8080/",
          "height": 34
        }
      },
      "source": [
        "letters = list(map(lambda x: x, 'weather change'))\n",
        "print(letters)"
      ],
      "execution_count": 7,
      "outputs": [
        {
          "output_type": "stream",
          "text": [
            "['w', 'e', 'a', 't', 'h', 'e', 'r', ' ', 'c', 'h', 'a', 'n', 'g', 'e']\n"
          ],
          "name": "stdout"
        }
      ]
    },
    {
      "cell_type": "markdown",
      "metadata": {
        "id": "kPPu-4-aCsuI"
      },
      "source": [
        "### homework 2 : Transform the string to a list function to a lambda expression with map"
      ]
    },
    {
      "cell_type": "code",
      "metadata": {
        "id": "bKdKUEy6Kl6z",
        "outputId": "c9b319f2-36c7-4c6f-ffc0-ba6fe95ff0ce",
        "colab": {
          "base_uri": "https://localhost:8080/",
          "height": 34
        }
      },
      "source": [
        "map(lambda x: x * 2, range(10))"
      ],
      "execution_count": 22,
      "outputs": [
        {
          "output_type": "execute_result",
          "data": {
            "text/plain": [
              "<map at 0x7f944bb550f0>"
            ]
          },
          "metadata": {
            "tags": []
          },
          "execution_count": 22
        }
      ]
    },
    {
      "cell_type": "code",
      "metadata": {
        "id": "A_Gu7rINLmMe",
        "outputId": "6aa7708d-95d3-4f6e-fb38-ac09ad81a1f5",
        "colab": {
          "base_uri": "https://localhost:8080/",
          "height": 34
        }
      },
      "source": [
        "list(map(lambda x: x * 2, range(10)))"
      ],
      "execution_count": 23,
      "outputs": [
        {
          "output_type": "execute_result",
          "data": {
            "text/plain": [
              "[0, 2, 4, 6, 8, 10, 12, 14, 16, 18]"
            ]
          },
          "metadata": {
            "tags": []
          },
          "execution_count": 23
        }
      ]
    },
    {
      "cell_type": "code",
      "metadata": {
        "id": "HcmdIMiGLrCh",
        "outputId": "e00aee44-bdf2-4528-bf41-e9304cbffe98",
        "colab": {
          "base_uri": "https://localhost:8080/",
          "height": 34
        }
      },
      "source": [
        "str = range(10)\n",
        "list(map(lambda x: x * 2, str))"
      ],
      "execution_count": 24,
      "outputs": [
        {
          "output_type": "execute_result",
          "data": {
            "text/plain": [
              "[0, 2, 4, 6, 8, 10, 12, 14, 16, 18]"
            ]
          },
          "metadata": {
            "tags": []
          },
          "execution_count": 24
        }
      ]
    },
    {
      "cell_type": "markdown",
      "metadata": {
        "id": "BtEnQrkKC3oZ"
      },
      "source": [
        "### homework 3 : Remove \" \" from a string_to_list"
      ]
    },
    {
      "cell_type": "code",
      "metadata": {
        "id": "Y97Wj8KdHcyh",
        "outputId": "df7914f3-d382-4ecf-9a28-e37f9c548e46",
        "colab": {
          "base_uri": "https://localhost:8080/",
          "height": 34
        }
      },
      "source": [
        "h_letters = []\n",
        "for letter in 'weather change':\n",
        "  h_letters.append(letter)\n",
        "print(h_letters)"
      ],
      "execution_count": 44,
      "outputs": [
        {
          "output_type": "stream",
          "text": [
            "['w', 'e', 'a', 't', 'h', 'e', 'r', ' ', 'c', 'h', 'a', 'n', 'g', 'e']\n"
          ],
          "name": "stdout"
        }
      ]
    },
    {
      "cell_type": "code",
      "metadata": {
        "id": "kk09qCSGRoza",
        "outputId": "be83c035-b8d1-459b-81e2-1f56965e3642",
        "colab": {
          "base_uri": "https://localhost:8080/",
          "height": 34
        }
      },
      "source": [
        "del h_letters[7]\n",
        "print(h_letters)"
      ],
      "execution_count": 45,
      "outputs": [
        {
          "output_type": "stream",
          "text": [
            "['w', 'e', 'a', 't', 'h', 'e', 'r', 'c', 'h', 'a', 'n', 'g', 'e']\n"
          ],
          "name": "stdout"
        }
      ]
    }
  ]
}