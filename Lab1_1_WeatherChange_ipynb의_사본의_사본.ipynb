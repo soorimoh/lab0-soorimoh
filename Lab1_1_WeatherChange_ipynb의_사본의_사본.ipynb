{
  "nbformat": 4,
  "nbformat_minor": 0,
  "metadata": {
    "colab": {
      "name": "Lab1.1_WeatherChange.ipynb의 사본의 사본",
      "provenance": [],
      "collapsed_sections": [],
      "include_colab_link": true
    },
    "kernelspec": {
      "name": "python3",
      "display_name": "Python 3"
    }
  },
  "cells": [
    {
      "cell_type": "markdown",
      "metadata": {
        "id": "view-in-github",
        "colab_type": "text"
      },
      "source": [
        "<a href=\"https://colab.research.google.com/github/soorimoh/lab0-soorimoh/blob/master/Lab1_1_WeatherChange_ipynb%EC%9D%98_%EC%82%AC%EB%B3%B8%EC%9D%98_%EC%82%AC%EB%B3%B8.ipynb\" target=\"_parent\"><img src=\"https://colab.research.google.com/assets/colab-badge.svg\" alt=\"Open In Colab\"/></a>"
      ]
    },
    {
      "cell_type": "markdown",
      "metadata": {
        "id": "9zDPadTUqgRp"
      },
      "source": [
        "# Introduction to Modeling of Estimation for Weather Change Class"
      ]
    },
    {
      "cell_type": "markdown",
      "metadata": {
        "id": "QiXRNAWbgNFH"
      },
      "source": [
        "#Laboratory #1\n",
        "\n",
        "# **Name : Soorim Oh**\n",
        "*   Incheon National University / Department of Environmental and Energy Engineering \n",
        "*   Microplastics in seawater\n",
        "*   September 24th 2020"
      ]
    },
    {
      "cell_type": "code",
      "metadata": {
        "id": "lbqhO6aOf7na",
        "outputId": "903cc0cc-1a8a-42c0-cddf-ae7a922206ff",
        "colab": {
          "base_uri": "https://localhost:8080/",
          "height": 35
        }
      },
      "source": [
        "a = 11\n",
        "b = 12 \n",
        "print (a + b)"
      ],
      "execution_count": null,
      "outputs": [
        {
          "output_type": "stream",
          "text": [
            "23\n"
          ],
          "name": "stdout"
        }
      ]
    },
    {
      "cell_type": "code",
      "metadata": {
        "id": "G3PJKUxwgjYf",
        "outputId": "3144fe29-da46-4fb0-af7e-216e2e092378",
        "colab": {
          "base_uri": "https://localhost:8080/",
          "height": 35
        }
      },
      "source": [
        "a += 1\n",
        "print (a + b)"
      ],
      "execution_count": null,
      "outputs": [
        {
          "output_type": "stream",
          "text": [
            "24\n"
          ],
          "name": "stdout"
        }
      ]
    },
    {
      "cell_type": "code",
      "metadata": {
        "id": "iVNzm8PCfUEf",
        "outputId": "046a4ee3-563d-49be-a6fb-89e42f28f42a",
        "colab": {
          "base_uri": "https://localhost:8080/",
          "height": 35
        }
      },
      "source": [
        "from google.colab import drive\n",
        "drive.mount('/content/drive')"
      ],
      "execution_count": null,
      "outputs": [
        {
          "output_type": "stream",
          "text": [
            "Mounted at /content/drive\n"
          ],
          "name": "stdout"
        }
      ]
    },
    {
      "cell_type": "code",
      "metadata": {
        "id": "lFOvs6XxgZfa",
        "outputId": "98486412-4254-4f73-9d54-68b73ac99e36",
        "colab": {
          "base_uri": "https://localhost:8080/",
          "height": 35
        }
      },
      "source": [
        "!pwd"
      ],
      "execution_count": null,
      "outputs": [
        {
          "output_type": "stream",
          "text": [
            "/content\n"
          ],
          "name": "stdout"
        }
      ]
    },
    {
      "cell_type": "code",
      "metadata": {
        "id": "FB_DXSl3goei",
        "outputId": "00937a67-6616-46d0-efa1-29e94a9cff32",
        "colab": {
          "base_uri": "https://localhost:8080/",
          "height": 35
        }
      },
      "source": [
        "!ls 'drive/My Drive/Colab Notebooks'"
      ],
      "execution_count": null,
      "outputs": [
        {
          "output_type": "stream",
          "text": [
            "Lab1_WeatherChange.ipynb  Untitled0.ipynb\n"
          ],
          "name": "stdout"
        }
      ]
    },
    {
      "cell_type": "markdown",
      "metadata": {
        "id": "lVdJMjWv5zgM"
      },
      "source": [
        "# Data types\n",
        "## Numbers\n"
      ]
    },
    {
      "cell_type": "code",
      "metadata": {
        "id": "z4RPqALf5w9k",
        "outputId": "db0d6843-8a0f-46ad-d03c-e2fbd5371d85",
        "colab": {
          "base_uri": "https://localhost:8080/",
          "height": 35
        }
      },
      "source": [
        "1+1"
      ],
      "execution_count": null,
      "outputs": [
        {
          "output_type": "execute_result",
          "data": {
            "text/plain": [
              "2"
            ]
          },
          "metadata": {
            "tags": []
          },
          "execution_count": 1
        }
      ]
    },
    {
      "cell_type": "code",
      "metadata": {
        "id": "binb_zlo6EEe",
        "outputId": "4b4ab113-c542-4103-f1f9-879fb802767a",
        "colab": {
          "base_uri": "https://localhost:8080/",
          "height": 35
        }
      },
      "source": [
        "2-3"
      ],
      "execution_count": null,
      "outputs": [
        {
          "output_type": "execute_result",
          "data": {
            "text/plain": [
              "-1"
            ]
          },
          "metadata": {
            "tags": []
          },
          "execution_count": 2
        }
      ]
    },
    {
      "cell_type": "code",
      "metadata": {
        "id": "XRoLdfwO6G1H",
        "outputId": "61d24be2-8b9b-4808-f028-ba35b2d70c6c",
        "colab": {
          "base_uri": "https://localhost:8080/",
          "height": 35
        }
      },
      "source": [
        "1*3"
      ],
      "execution_count": null,
      "outputs": [
        {
          "output_type": "execute_result",
          "data": {
            "text/plain": [
              "3"
            ]
          },
          "metadata": {
            "tags": []
          },
          "execution_count": 3
        }
      ]
    },
    {
      "cell_type": "code",
      "metadata": {
        "id": "RPftIf5b6LYR",
        "outputId": "e02983cc-9245-4452-a063-36dbdfb646f3",
        "colab": {
          "base_uri": "https://localhost:8080/",
          "height": 35
        }
      },
      "source": [
        "2 / 5"
      ],
      "execution_count": null,
      "outputs": [
        {
          "output_type": "execute_result",
          "data": {
            "text/plain": [
              "0.4"
            ]
          },
          "metadata": {
            "tags": []
          },
          "execution_count": 4
        }
      ]
    },
    {
      "cell_type": "code",
      "metadata": {
        "id": "Cayhg1aO6TRF",
        "outputId": "c0a32b77-12a2-4b12-b24b-efd6d9628bfa",
        "colab": {
          "base_uri": "https://localhost:8080/",
          "height": 35
        }
      },
      "source": [
        "2 ** 4"
      ],
      "execution_count": null,
      "outputs": [
        {
          "output_type": "execute_result",
          "data": {
            "text/plain": [
              "16"
            ]
          },
          "metadata": {
            "tags": []
          },
          "execution_count": 5
        }
      ]
    },
    {
      "cell_type": "code",
      "metadata": {
        "id": "hWCDrLwQ6XkG",
        "outputId": "d8a6c6dd-7703-4ad6-c93a-3b932444716e",
        "colab": {
          "base_uri": "https://localhost:8080/",
          "height": 35
        }
      },
      "source": [
        "5%2"
      ],
      "execution_count": null,
      "outputs": [
        {
          "output_type": "execute_result",
          "data": {
            "text/plain": [
              "1"
            ]
          },
          "metadata": {
            "tags": []
          },
          "execution_count": 6
        }
      ]
    },
    {
      "cell_type": "code",
      "metadata": {
        "id": "BPkjcTGn6bIo",
        "outputId": "fefcadd4-0d39-4da1-8491-c0a2f0412761",
        "colab": {
          "base_uri": "https://localhost:8080/",
          "height": 35
        }
      },
      "source": [
        "(2+3)*(4/2)"
      ],
      "execution_count": null,
      "outputs": [
        {
          "output_type": "execute_result",
          "data": {
            "text/plain": [
              "10.0"
            ]
          },
          "metadata": {
            "tags": []
          },
          "execution_count": 7
        }
      ]
    },
    {
      "cell_type": "code",
      "metadata": {
        "id": "t8Z2glRB6giu",
        "outputId": "6e4a6183-8af9-4fc1-bf67-6f449a2bbd6f",
        "colab": {
          "base_uri": "https://localhost:8080/",
          "height": 35
        }
      },
      "source": [
        "type(1.2)"
      ],
      "execution_count": null,
      "outputs": [
        {
          "output_type": "execute_result",
          "data": {
            "text/plain": [
              "float"
            ]
          },
          "metadata": {
            "tags": []
          },
          "execution_count": 9
        }
      ]
    },
    {
      "cell_type": "code",
      "metadata": {
        "id": "hzTmnyXb6oeN",
        "outputId": "44008050-b9b6-4217-cbc3-7fa87efe44b7",
        "colab": {
          "base_uri": "https://localhost:8080/",
          "height": 35
        }
      },
      "source": [
        "type(8)"
      ],
      "execution_count": null,
      "outputs": [
        {
          "output_type": "execute_result",
          "data": {
            "text/plain": [
              "int"
            ]
          },
          "metadata": {
            "tags": []
          },
          "execution_count": 10
        }
      ]
    },
    {
      "cell_type": "code",
      "metadata": {
        "id": "IeHT3ztP6sb6",
        "outputId": "d410b78a-ad49-431d-b62d-2f064e2c7744",
        "colab": {
          "base_uri": "https://localhost:8080/",
          "height": 35
        }
      },
      "source": [
        "type(float(3))"
      ],
      "execution_count": null,
      "outputs": [
        {
          "output_type": "execute_result",
          "data": {
            "text/plain": [
              "float"
            ]
          },
          "metadata": {
            "tags": []
          },
          "execution_count": 11
        }
      ]
    },
    {
      "cell_type": "markdown",
      "metadata": {
        "id": "Kz5Cx81_61YC"
      },
      "source": [
        "## Variable Assignment\n"
      ]
    },
    {
      "cell_type": "code",
      "metadata": {
        "id": "aKzqyn1H6yB8"
      },
      "source": [
        "# Cannot start a variable with a number\n",
        "s12 = 1"
      ],
      "execution_count": null,
      "outputs": []
    },
    {
      "cell_type": "code",
      "metadata": {
        "id": "FXHoEGm37N5k"
      },
      "source": [
        "x = 2\n",
        "y = 3"
      ],
      "execution_count": null,
      "outputs": []
    },
    {
      "cell_type": "code",
      "metadata": {
        "id": "w0c6JrXg7Slr"
      },
      "source": [
        "z = x + y"
      ],
      "execution_count": null,
      "outputs": []
    },
    {
      "cell_type": "code",
      "metadata": {
        "id": "sayn9bFE7Z18",
        "outputId": "7fb1f550-c928-4c24-ad25-814b27b17dbd",
        "colab": {
          "base_uri": "https://localhost:8080/",
          "height": 35
        }
      },
      "source": [
        "print(z)"
      ],
      "execution_count": null,
      "outputs": [
        {
          "output_type": "stream",
          "text": [
            "5\n"
          ],
          "name": "stdout"
        }
      ]
    },
    {
      "cell_type": "code",
      "metadata": {
        "id": "Xy4cKI2s7idL",
        "outputId": "c2147ca3-301c-4225-ed6c-5ba46f77289c",
        "colab": {
          "base_uri": "https://localhost:8080/",
          "height": 35
        }
      },
      "source": [
        "s12"
      ],
      "execution_count": null,
      "outputs": [
        {
          "output_type": "execute_result",
          "data": {
            "text/plain": [
              "1"
            ]
          },
          "metadata": {
            "tags": []
          },
          "execution_count": 19
        }
      ]
    },
    {
      "cell_type": "code",
      "metadata": {
        "id": "M02tMbCT7lLM",
        "outputId": "48ce2cd4-c4f4-4946-a98d-c24906161fd8",
        "colab": {
          "base_uri": "https://localhost:8080/",
          "height": 35
        }
      },
      "source": [
        "id(x)"
      ],
      "execution_count": null,
      "outputs": [
        {
          "output_type": "execute_result",
          "data": {
            "text/plain": [
              "10914528"
            ]
          },
          "metadata": {
            "tags": []
          },
          "execution_count": 24
        }
      ]
    },
    {
      "cell_type": "code",
      "metadata": {
        "id": "yQzxWCqO7rtB",
        "outputId": "67c52ed8-69c3-4aad-e51f-e9d629f15ef0",
        "colab": {
          "base_uri": "https://localhost:8080/",
          "height": 35
        }
      },
      "source": [
        "id(y)"
      ],
      "execution_count": null,
      "outputs": [
        {
          "output_type": "execute_result",
          "data": {
            "text/plain": [
              "10914528"
            ]
          },
          "metadata": {
            "tags": []
          },
          "execution_count": 25
        }
      ]
    },
    {
      "cell_type": "code",
      "metadata": {
        "id": "8gXGBEmt7uF8"
      },
      "source": [
        "y = x"
      ],
      "execution_count": null,
      "outputs": []
    },
    {
      "cell_type": "markdown",
      "metadata": {
        "id": "lZECCCqV8lot"
      },
      "source": [
        "# String"
      ]
    },
    {
      "cell_type": "code",
      "metadata": {
        "id": "sS88FAB38dh1",
        "outputId": "a3603b5b-98d6-44b9-8d41-da24226082c4",
        "colab": {
          "base_uri": "https://localhost:8080/",
          "height": 35
        }
      },
      "source": [
        "'single quotes'"
      ],
      "execution_count": null,
      "outputs": [
        {
          "output_type": "execute_result",
          "data": {
            "application/vnd.google.colaboratory.intrinsic+json": {
              "type": "string"
            },
            "text/plain": [
              "'single quotes'"
            ]
          },
          "metadata": {
            "tags": []
          },
          "execution_count": 30
        }
      ]
    },
    {
      "cell_type": "code",
      "metadata": {
        "id": "y8OK16az8tUo",
        "outputId": "394bd419-b1bd-4d42-946d-2f1ae7963fc3",
        "colab": {
          "base_uri": "https://localhost:8080/",
          "height": 35
        }
      },
      "source": [
        "\"double quotes\""
      ],
      "execution_count": null,
      "outputs": [
        {
          "output_type": "execute_result",
          "data": {
            "application/vnd.google.colaboratory.intrinsic+json": {
              "type": "string"
            },
            "text/plain": [
              "'double quotes'"
            ]
          },
          "metadata": {
            "tags": []
          },
          "execution_count": 32
        }
      ]
    },
    {
      "cell_type": "code",
      "metadata": {
        "id": "Gk1ngs9v8y2j",
        "outputId": "8e7f92e8-ac77-45e0-fe61-ff1d52f00620",
        "colab": {
          "base_uri": "https://localhost:8080/",
          "height": 35
        }
      },
      "source": [
        "\"let's begging\""
      ],
      "execution_count": null,
      "outputs": [
        {
          "output_type": "execute_result",
          "data": {
            "application/vnd.google.colaboratory.intrinsic+json": {
              "type": "string"
            },
            "text/plain": [
              "\"let's begging\""
            ]
          },
          "metadata": {
            "tags": []
          },
          "execution_count": 33
        }
      ]
    },
    {
      "cell_type": "code",
      "metadata": {
        "id": "AIx5Wv2s85vN"
      },
      "source": [
        "my_string = \"\"\" Hello welcome to\n",
        "            the 5th week\"\"\""
      ],
      "execution_count": null,
      "outputs": []
    },
    {
      "cell_type": "code",
      "metadata": {
        "id": "514--6U49YEJ",
        "outputId": "d76c1fec-6f56-462d-c6d2-260c4a154abd",
        "colab": {
          "base_uri": "https://localhost:8080/",
          "height": 53
        }
      },
      "source": [
        "print(my_string)"
      ],
      "execution_count": null,
      "outputs": [
        {
          "output_type": "stream",
          "text": [
            " Hello welcome to\n",
            "            the 5th week\n"
          ],
          "name": "stdout"
        }
      ]
    },
    {
      "cell_type": "code",
      "metadata": {
        "id": "50ClpnQBlLj_"
      },
      "source": [
        "st= \"Modeling of estimation for weather change\""
      ],
      "execution_count": null,
      "outputs": []
    },
    {
      "cell_type": "code",
      "metadata": {
        "id": "Nkr2eASIlmLE",
        "outputId": "4e8f5978-4f6d-43c9-ba97-b7d98f96a386",
        "colab": {
          "base_uri": "https://localhost:8080/",
          "height": 35
        }
      },
      "source": [
        "st[-6:]"
      ],
      "execution_count": null,
      "outputs": [
        {
          "output_type": "execute_result",
          "data": {
            "application/vnd.google.colaboratory.intrinsic+json": {
              "type": "string"
            },
            "text/plain": [
              "'change'"
            ]
          },
          "metadata": {
            "tags": []
          },
          "execution_count": 3
        }
      ]
    },
    {
      "cell_type": "code",
      "metadata": {
        "id": "dO5m9G_Xls-S",
        "outputId": "47966867-873a-4cb8-d9b8-d46ec4beb875",
        "colab": {
          "base_uri": "https://localhost:8080/",
          "height": 35
        }
      },
      "source": [
        "#Get the world \"estimation\" from st using indices\n",
        "#st = \"Modeling of estimation for weather change\"\n",
        "st[12:22] #st[start_index: end_index+1]"
      ],
      "execution_count": null,
      "outputs": [
        {
          "output_type": "execute_result",
          "data": {
            "application/vnd.google.colaboratory.intrinsic+json": {
              "type": "string"
            },
            "text/plain": [
              "'estimation'"
            ]
          },
          "metadata": {
            "tags": []
          },
          "execution_count": 13
        }
      ]
    },
    {
      "cell_type": "code",
      "metadata": {
        "id": "ajJCuKj1l99j",
        "outputId": "e4c7d93d-86ff-443d-a25d-96e84bb1aa45",
        "colab": {
          "base_uri": "https://localhost:8080/",
          "height": 35
        }
      },
      "source": [
        "#Get the word \"weather\" from st using indices\n",
        "st[27:34]"
      ],
      "execution_count": null,
      "outputs": [
        {
          "output_type": "execute_result",
          "data": {
            "application/vnd.google.colaboratory.intrinsic+json": {
              "type": "string"
            },
            "text/plain": [
              "'weather'"
            ]
          },
          "metadata": {
            "tags": []
          },
          "execution_count": 14
        }
      ]
    },
    {
      "cell_type": "code",
      "metadata": {
        "id": "w2dRS62emIlg",
        "outputId": "e28d0489-eef9-4dec-db8d-deab2ee8e725",
        "colab": {
          "base_uri": "https://localhost:8080/",
          "height": 35
        }
      },
      "source": [
        "len(st)"
      ],
      "execution_count": null,
      "outputs": [
        {
          "output_type": "execute_result",
          "data": {
            "text/plain": [
              "41"
            ]
          },
          "metadata": {
            "tags": []
          },
          "execution_count": 8
        }
      ]
    },
    {
      "cell_type": "code",
      "metadata": {
        "id": "6Bi8T_j7mpH7",
        "outputId": "81047784-249b-4a97-f211-c3beab26fcbd",
        "colab": {
          "base_uri": "https://localhost:8080/",
          "height": 35
        }
      },
      "source": [
        "st.lower()"
      ],
      "execution_count": null,
      "outputs": [
        {
          "output_type": "execute_result",
          "data": {
            "application/vnd.google.colaboratory.intrinsic+json": {
              "type": "string"
            },
            "text/plain": [
              "'modeling of estimation for weather change'"
            ]
          },
          "metadata": {
            "tags": []
          },
          "execution_count": 9
        }
      ]
    },
    {
      "cell_type": "code",
      "metadata": {
        "id": "VqEFWFpdmr1Y",
        "outputId": "ff658b43-90ee-44cf-f9f4-cdc17df85d1f",
        "colab": {
          "base_uri": "https://localhost:8080/",
          "height": 35
        }
      },
      "source": [
        "st.upper()"
      ],
      "execution_count": null,
      "outputs": [
        {
          "output_type": "execute_result",
          "data": {
            "application/vnd.google.colaboratory.intrinsic+json": {
              "type": "string"
            },
            "text/plain": [
              "'MODELING OF ESTIMATION FOR WEATHER CHANGE'"
            ]
          },
          "metadata": {
            "tags": []
          },
          "execution_count": 10
        }
      ]
    },
    {
      "cell_type": "code",
      "metadata": {
        "id": "F3VM-UjGrf9Y",
        "outputId": "69fa18cf-1655-425d-ab55-da3a116df06f",
        "colab": {
          "base_uri": "https://localhost:8080/",
          "height": 35
        }
      },
      "source": [
        "st.split(\" \")"
      ],
      "execution_count": null,
      "outputs": [
        {
          "output_type": "execute_result",
          "data": {
            "text/plain": [
              "['Modeling', 'of', 'estimation', 'for', 'weather', 'change']"
            ]
          },
          "metadata": {
            "tags": []
          },
          "execution_count": 16
        }
      ]
    },
    {
      "cell_type": "code",
      "metadata": {
        "id": "PbyQPLtkrmZ7"
      },
      "source": [
        "tweet = \"Go Suwon Bluewings!! #Bluewings\""
      ],
      "execution_count": 1,
      "outputs": []
    },
    {
      "cell_type": "code",
      "metadata": {
        "id": "a7AWs10lrmKv",
        "outputId": "2247f476-444a-4096-aa9d-b4a64ad16019",
        "colab": {
          "base_uri": "https://localhost:8080/",
          "height": 34
        }
      },
      "source": [
        "tweet.split(\"#\")"
      ],
      "execution_count": 2,
      "outputs": [
        {
          "output_type": "execute_result",
          "data": {
            "text/plain": [
              "['Go Suwon Bluewings!! ', 'Bluewings']"
            ]
          },
          "metadata": {
            "tags": []
          },
          "execution_count": 2
        }
      ]
    },
    {
      "cell_type": "code",
      "metadata": {
        "id": "hx1imbkck5Vn",
        "outputId": "1cf63543-5e49-4b7a-d927-b84fa4f05df1",
        "colab": {
          "base_uri": "https://localhost:8080/",
          "height": 34
        }
      },
      "source": [
        "#Get \"Go Suwon Bluewings!!!\" and put it CAPITAL using tweet.split()\n",
        "tweet.split(\"#\")"
      ],
      "execution_count": 4,
      "outputs": [
        {
          "output_type": "execute_result",
          "data": {
            "text/plain": [
              "['Go Suwon Bluewings!! ', 'Bluewings']"
            ]
          },
          "metadata": {
            "tags": []
          },
          "execution_count": 4
        }
      ]
    },
    {
      "cell_type": "code",
      "metadata": {
        "id": "bN4QGGY5lenj",
        "outputId": "4b274962-8dda-4621-8ecc-ac1a0ce06f0d",
        "colab": {
          "base_uri": "https://localhost:8080/",
          "height": 34
        }
      },
      "source": [
        "print('Modeling')"
      ],
      "execution_count": 5,
      "outputs": [
        {
          "output_type": "stream",
          "text": [
            "Modeling\n"
          ],
          "name": "stdout"
        }
      ]
    },
    {
      "cell_type": "code",
      "metadata": {
        "id": "4R8hALA1ljb5",
        "outputId": "0c944339-6080-427f-cc19-1810c6f1ebe9",
        "colab": {
          "base_uri": "https://localhost:8080/",
          "height": 34
        }
      },
      "source": [
        "print('home', 'user', 'documents', sep='/')"
      ],
      "execution_count": 6,
      "outputs": [
        {
          "output_type": "stream",
          "text": [
            "home/user/documents\n"
          ],
          "name": "stdout"
        }
      ]
    },
    {
      "cell_type": "code",
      "metadata": {
        "id": "wK9cwCNelphP"
      },
      "source": [
        "st2 = 'My age is ' + str(30)  "
      ],
      "execution_count": 8,
      "outputs": []
    },
    {
      "cell_type": "code",
      "metadata": {
        "id": "gF6uFRq9lv5O",
        "outputId": "f11ec383-8d1e-4ed3-9644-ea820677029e",
        "colab": {
          "base_uri": "https://localhost:8080/",
          "height": 34
        }
      },
      "source": [
        "print(\"Welcome to\", end = ' ')\n",
        "print(\"Modeling of Estimation for Weather Change\", end = '@')"
      ],
      "execution_count": 9,
      "outputs": [
        {
          "output_type": "stream",
          "text": [
            "Welcome to Modeling of Estimation for Weather Change@"
          ],
          "name": "stdout"
        }
      ]
    },
    {
      "cell_type": "code",
      "metadata": {
        "id": "3DjZLGzvl6nK"
      },
      "source": [
        "#use print fuction and seperate the following strings by 2 enters\n",
        "#'Modeling', 'of', 'Estimation', 'for', 'Weather', 'Change'\n",
        "#put a \"!\" at the end"
      ],
      "execution_count": 10,
      "outputs": []
    },
    {
      "cell_type": "code",
      "metadata": {
        "id": "Fx0bOiYCl7s-",
        "outputId": "ad39438a-1604-4772-8bbf-5cd15172f7db",
        "colab": {
          "base_uri": "https://localhost:8080/",
          "height": 214
        }
      },
      "source": [
        "print('Modeling', 'of', 'Estimation', 'for', 'Weather', 'Changer', sep=\"\\n\\n\", end = '!')"
      ],
      "execution_count": 11,
      "outputs": [
        {
          "output_type": "stream",
          "text": [
            "Modeling\n",
            "\n",
            "of\n",
            "\n",
            "Estimation\n",
            "\n",
            "for\n",
            "\n",
            "Weather\n",
            "\n",
            "Changer!"
          ],
          "name": "stdout"
        }
      ]
    },
    {
      "cell_type": "markdown",
      "metadata": {
        "id": "u49DhDx5mekQ"
      },
      "source": [
        "## List\n"
      ]
    },
    {
      "cell_type": "code",
      "metadata": {
        "id": "Qiz6Ai-Ul72K",
        "outputId": "76e39236-2141-43d8-8c7e-bc497defaa2e",
        "colab": {
          "base_uri": "https://localhost:8080/",
          "height": 34
        }
      },
      "source": [
        "[1,2,3]"
      ],
      "execution_count": 12,
      "outputs": [
        {
          "output_type": "execute_result",
          "data": {
            "text/plain": [
              "[1, 2, 3]"
            ]
          },
          "metadata": {
            "tags": []
          },
          "execution_count": 12
        }
      ]
    },
    {
      "cell_type": "code",
      "metadata": {
        "id": "tR6ichaol7zh",
        "outputId": "8bf2245b-a3f8-48a2-a854-9ef4617b9561",
        "colab": {
          "base_uri": "https://localhost:8080/",
          "height": 34
        }
      },
      "source": [
        "[\"hi\", 1,2,3]"
      ],
      "execution_count": 13,
      "outputs": [
        {
          "output_type": "execute_result",
          "data": {
            "text/plain": [
              "['hi', 1, 2, 3]"
            ]
          },
          "metadata": {
            "tags": []
          },
          "execution_count": 13
        }
      ]
    },
    {
      "cell_type": "code",
      "metadata": {
        "id": "z90deNpil7xU",
        "outputId": "4bc9be4a-f9fd-4213-e4a2-70a56c6d5659",
        "colab": {
          "base_uri": "https://localhost:8080/",
          "height": 34
        }
      },
      "source": [
        "[\"hi\", 1, [1,2,]]"
      ],
      "execution_count": 14,
      "outputs": [
        {
          "output_type": "execute_result",
          "data": {
            "text/plain": [
              "['hi', 1, [1, 2]]"
            ]
          },
          "metadata": {
            "tags": []
          },
          "execution_count": 14
        }
      ]
    },
    {
      "cell_type": "code",
      "metadata": {
        "id": "MIJN56eLn0SU"
      },
      "source": [
        "my_list=['a','b','c']"
      ],
      "execution_count": 29,
      "outputs": []
    },
    {
      "cell_type": "code",
      "metadata": {
        "id": "NPKNl77Kn3fr"
      },
      "source": [
        "#add an element at the end of the list\n",
        "my_list.append('e')"
      ],
      "execution_count": 30,
      "outputs": []
    },
    {
      "cell_type": "code",
      "metadata": {
        "id": "gwBb4vG5oAJf",
        "outputId": "eb8a5356-7a9f-49ff-a4b8-17572ac54ea7",
        "colab": {
          "base_uri": "https://localhost:8080/",
          "height": 34
        }
      },
      "source": [
        "my_list"
      ],
      "execution_count": 31,
      "outputs": [
        {
          "output_type": "execute_result",
          "data": {
            "text/plain": [
              "['a', 'b', 'c', 'e']"
            ]
          },
          "metadata": {
            "tags": []
          },
          "execution_count": 31
        }
      ]
    },
    {
      "cell_type": "code",
      "metadata": {
        "id": "5Jg6gqgmoBde"
      },
      "source": [
        "#add element at the desired location\n",
        "#add element d at the 4th index\n",
        "my_list.insert(3,'d')"
      ],
      "execution_count": 32,
      "outputs": []
    },
    {
      "cell_type": "code",
      "metadata": {
        "id": "LJc2IbCuoKT6",
        "outputId": "91be2537-a512-48af-c2f4-df5eba3b2a8a",
        "colab": {
          "base_uri": "https://localhost:8080/",
          "height": 34
        }
      },
      "source": [
        "print(my_list)"
      ],
      "execution_count": 33,
      "outputs": [
        {
          "output_type": "stream",
          "text": [
            "['a', 'b', 'c', 'd', 'e']\n"
          ],
          "name": "stdout"
        }
      ]
    },
    {
      "cell_type": "code",
      "metadata": {
        "id": "2zcsxXkKoNy6"
      },
      "source": [
        "#add several elements at the end of the list\n",
        "#my_list + + ['f','g']\n",
        "my_list.extend(['f','g'])"
      ],
      "execution_count": 34,
      "outputs": []
    },
    {
      "cell_type": "code",
      "metadata": {
        "id": "l7BBj2lgoYnF",
        "outputId": "54276193-29b0-4fd7-913f-ca1a7721ebfa",
        "colab": {
          "base_uri": "https://localhost:8080/",
          "height": 34
        }
      },
      "source": [
        "print(my_list)"
      ],
      "execution_count": 35,
      "outputs": [
        {
          "output_type": "stream",
          "text": [
            "['a', 'b', 'c', 'd', 'e', 'f', 'g']\n"
          ],
          "name": "stdout"
        }
      ]
    },
    {
      "cell_type": "code",
      "metadata": {
        "id": "xYFklSNHoa70",
        "outputId": "acf2f655-964b-496c-9f97-aa5781cea859",
        "colab": {
          "base_uri": "https://localhost:8080/",
          "height": 34
        }
      },
      "source": [
        "my_list[0]"
      ],
      "execution_count": 36,
      "outputs": [
        {
          "output_type": "execute_result",
          "data": {
            "application/vnd.google.colaboratory.intrinsic+json": {
              "type": "string"
            },
            "text/plain": [
              "'a'"
            ]
          },
          "metadata": {
            "tags": []
          },
          "execution_count": 36
        }
      ]
    },
    {
      "cell_type": "code",
      "metadata": {
        "id": "IB1XotTuoa-a",
        "outputId": "2d8bced0-ffb1-4d9d-9e39-7784f3609d64",
        "colab": {
          "base_uri": "https://localhost:8080/",
          "height": 34
        }
      },
      "source": [
        "my_list[2]"
      ],
      "execution_count": 37,
      "outputs": [
        {
          "output_type": "execute_result",
          "data": {
            "application/vnd.google.colaboratory.intrinsic+json": {
              "type": "string"
            },
            "text/plain": [
              "'c'"
            ]
          },
          "metadata": {
            "tags": []
          },
          "execution_count": 37
        }
      ]
    },
    {
      "cell_type": "code",
      "metadata": {
        "id": "--4FBlDcobBU",
        "outputId": "219c6009-ff62-4df2-c301-db3108a3dae3",
        "colab": {
          "base_uri": "https://localhost:8080/",
          "height": 34
        }
      },
      "source": [
        "my_list[1:]"
      ],
      "execution_count": 38,
      "outputs": [
        {
          "output_type": "execute_result",
          "data": {
            "text/plain": [
              "['b', 'c', 'd', 'e', 'f', 'g']"
            ]
          },
          "metadata": {
            "tags": []
          },
          "execution_count": 38
        }
      ]
    },
    {
      "cell_type": "code",
      "metadata": {
        "id": "NfdJRvfRoakX",
        "outputId": "4cc9a258-d1a8-4874-9778-3d3e02ee3b26",
        "colab": {
          "base_uri": "https://localhost:8080/",
          "height": 34
        }
      },
      "source": [
        "my_list[:2]"
      ],
      "execution_count": 39,
      "outputs": [
        {
          "output_type": "execute_result",
          "data": {
            "text/plain": [
              "['a', 'b']"
            ]
          },
          "metadata": {
            "tags": []
          },
          "execution_count": 39
        }
      ]
    },
    {
      "cell_type": "code",
      "metadata": {
        "id": "HMc0aFQ-ojEY",
        "outputId": "cab7e2c5-c8b6-4c58-d9bf-d97830643388",
        "colab": {
          "base_uri": "https://localhost:8080/",
          "height": 34
        }
      },
      "source": [
        "my_list[-2:]"
      ],
      "execution_count": 40,
      "outputs": [
        {
          "output_type": "execute_result",
          "data": {
            "text/plain": [
              "['f', 'g']"
            ]
          },
          "metadata": {
            "tags": []
          },
          "execution_count": 40
        }
      ]
    },
    {
      "cell_type": "code",
      "metadata": {
        "id": "kp74zzzNomPD"
      },
      "source": [
        "#update elements\n",
        "my_list[0] = 'NEW'"
      ],
      "execution_count": 41,
      "outputs": []
    },
    {
      "cell_type": "code",
      "metadata": {
        "id": "MQecuOdhorDr",
        "outputId": "bbc2b7d9-211c-420c-a340-8658f2b922a5",
        "colab": {
          "base_uri": "https://localhost:8080/",
          "height": 34
        }
      },
      "source": [
        "print(my_list)"
      ],
      "execution_count": 42,
      "outputs": [
        {
          "output_type": "stream",
          "text": [
            "['NEW', 'b', 'c', 'd', 'e', 'f', 'g']\n"
          ],
          "name": "stdout"
        }
      ]
    },
    {
      "cell_type": "code",
      "metadata": {
        "id": "2YET0uxdotMP"
      },
      "source": [
        "#list of integer, float and string\n",
        "nest_list = [1,2,3,[4.2,5.5, ['target','second target']]]"
      ],
      "execution_count": 46,
      "outputs": []
    },
    {
      "cell_type": "code",
      "metadata": {
        "id": "t6Yy3n1to3y0",
        "outputId": "c23085c2-8bd3-44c8-a8ea-152268d3671c",
        "colab": {
          "base_uri": "https://localhost:8080/",
          "height": 34
        }
      },
      "source": [
        "nest_list[3]"
      ],
      "execution_count": 47,
      "outputs": [
        {
          "output_type": "execute_result",
          "data": {
            "text/plain": [
              "[4.2, 5.5, ['target', 'second target']]"
            ]
          },
          "metadata": {
            "tags": []
          },
          "execution_count": 47
        }
      ]
    },
    {
      "cell_type": "code",
      "metadata": {
        "id": "juu22vnio3tz",
        "outputId": "8bf93211-8105-4e75-add5-b3e0edbded83",
        "colab": {
          "base_uri": "https://localhost:8080/",
          "height": 34
        }
      },
      "source": [
        "nest_list[3][2]"
      ],
      "execution_count": 48,
      "outputs": [
        {
          "output_type": "execute_result",
          "data": {
            "text/plain": [
              "['target', 'second target']"
            ]
          },
          "metadata": {
            "tags": []
          },
          "execution_count": 48
        }
      ]
    },
    {
      "cell_type": "code",
      "metadata": {
        "id": "PfaZOTJJo3q5",
        "outputId": "1ab57113-7731-4764-9fdf-45f43ee1d8ba",
        "colab": {
          "base_uri": "https://localhost:8080/",
          "height": 34
        }
      },
      "source": [
        "nest_list[3][2][1]"
      ],
      "execution_count": 49,
      "outputs": [
        {
          "output_type": "execute_result",
          "data": {
            "application/vnd.google.colaboratory.intrinsic+json": {
              "type": "string"
            },
            "text/plain": [
              "'second target'"
            ]
          },
          "metadata": {
            "tags": []
          },
          "execution_count": 49
        }
      ]
    },
    {
      "cell_type": "code",
      "metadata": {
        "id": "OR1u_ZVBo3oa"
      },
      "source": [
        "lst=my_list[:]"
      ],
      "execution_count": 50,
      "outputs": []
    },
    {
      "cell_type": "code",
      "metadata": {
        "id": "XD3owLYJo3mA",
        "outputId": "6fb9f79c-f240-44e0-d254-20ab3acf5032",
        "colab": {
          "base_uri": "https://localhost:8080/",
          "height": 34
        }
      },
      "source": [
        "print(lst)"
      ],
      "execution_count": 51,
      "outputs": [
        {
          "output_type": "stream",
          "text": [
            "['NEW', 'b', 'c', 'd', 'e', 'f', 'g']\n"
          ],
          "name": "stdout"
        }
      ]
    },
    {
      "cell_type": "code",
      "metadata": {
        "id": "bwY3vOcOpVKD",
        "outputId": "c318e97d-62b6-48be-b0ef-89e9d908420d",
        "colab": {
          "base_uri": "https://localhost:8080/",
          "height": 34
        }
      },
      "source": [
        "#delete last element  // lst.pop(index); del lst[1]; del[2:4]; del lst\n",
        "lst.pop()"
      ],
      "execution_count": 52,
      "outputs": [
        {
          "output_type": "execute_result",
          "data": {
            "application/vnd.google.colaboratory.intrinsic+json": {
              "type": "string"
            },
            "text/plain": [
              "'g'"
            ]
          },
          "metadata": {
            "tags": []
          },
          "execution_count": 52
        }
      ]
    },
    {
      "cell_type": "code",
      "metadata": {
        "id": "XhKL-kxOpoLG",
        "outputId": "4d6a9fd6-4b5c-49b1-c79c-fb0bffe456ca",
        "colab": {
          "base_uri": "https://localhost:8080/",
          "height": 34
        }
      },
      "source": [
        "print(lst)"
      ],
      "execution_count": 53,
      "outputs": [
        {
          "output_type": "stream",
          "text": [
            "['NEW', 'b', 'c', 'd', 'e', 'f']\n"
          ],
          "name": "stdout"
        }
      ]
    },
    {
      "cell_type": "code",
      "metadata": {
        "id": "ys13Z-htp1iP"
      },
      "source": [
        "#delete all elements\n",
        "lst.clear()"
      ],
      "execution_count": 54,
      "outputs": []
    },
    {
      "cell_type": "code",
      "metadata": {
        "id": "IYnH35iap8Mp",
        "outputId": "f220bf18-aa93-4b29-cfc2-13b33a4f2576",
        "colab": {
          "base_uri": "https://localhost:8080/",
          "height": 34
        }
      },
      "source": [
        "'x' in [1,2,3]"
      ],
      "execution_count": 55,
      "outputs": [
        {
          "output_type": "execute_result",
          "data": {
            "text/plain": [
              "False"
            ]
          },
          "metadata": {
            "tags": []
          },
          "execution_count": 55
        }
      ]
    },
    {
      "cell_type": "code",
      "metadata": {
        "id": "i6t4UjoAqCg-",
        "outputId": "643601f4-6808-4618-c536-1cc5a24c39cd",
        "colab": {
          "base_uri": "https://localhost:8080/",
          "height": 34
        }
      },
      "source": [
        "'x' in ['x','y','z']"
      ],
      "execution_count": 56,
      "outputs": [
        {
          "output_type": "execute_result",
          "data": {
            "text/plain": [
              "True"
            ]
          },
          "metadata": {
            "tags": []
          },
          "execution_count": 56
        }
      ]
    },
    {
      "cell_type": "markdown",
      "metadata": {
        "id": "eK1qZqE7qGeT"
      },
      "source": [
        "## Booleans"
      ]
    },
    {
      "cell_type": "code",
      "metadata": {
        "id": "PkoM1sWkqJ5o",
        "outputId": "42d77eb8-a71c-46d3-9003-bcced18178d5",
        "colab": {
          "base_uri": "https://localhost:8080/",
          "height": 34
        }
      },
      "source": [
        "True"
      ],
      "execution_count": 57,
      "outputs": [
        {
          "output_type": "execute_result",
          "data": {
            "text/plain": [
              "True"
            ]
          },
          "metadata": {
            "tags": []
          },
          "execution_count": 57
        }
      ]
    },
    {
      "cell_type": "code",
      "metadata": {
        "id": "ohmRTQ7PqNEU",
        "outputId": "777068db-6aa8-49e3-f21d-da85ab0a9592",
        "colab": {
          "base_uri": "https://localhost:8080/",
          "height": 34
        }
      },
      "source": [
        "False"
      ],
      "execution_count": 58,
      "outputs": [
        {
          "output_type": "execute_result",
          "data": {
            "text/plain": [
              "False"
            ]
          },
          "metadata": {
            "tags": []
          },
          "execution_count": 58
        }
      ]
    },
    {
      "cell_type": "markdown",
      "metadata": {
        "id": "CCjDjYE4qQY9"
      },
      "source": [
        "##Tuples\n"
      ]
    },
    {
      "cell_type": "code",
      "metadata": {
        "id": "WxxWBCHWqUYR"
      },
      "source": [
        "t = (1,2,3,4)"
      ],
      "execution_count": 59,
      "outputs": []
    },
    {
      "cell_type": "code",
      "metadata": {
        "id": "vmgLh78XqYa4",
        "outputId": "475348a1-4e24-47c6-d1e3-39778fafd574",
        "colab": {
          "base_uri": "https://localhost:8080/",
          "height": 34
        }
      },
      "source": [
        "t[2:]"
      ],
      "execution_count": 60,
      "outputs": [
        {
          "output_type": "execute_result",
          "data": {
            "text/plain": [
              "(3, 4)"
            ]
          },
          "metadata": {
            "tags": []
          },
          "execution_count": 60
        }
      ]
    },
    {
      "cell_type": "code",
      "metadata": {
        "id": "2t-U3-0Tqaxc",
        "outputId": "44b0f2b5-6cee-49b6-86e2-2b0462ec22e1",
        "colab": {
          "base_uri": "https://localhost:8080/",
          "height": 171
        }
      },
      "source": [
        "t[0] = 'New'"
      ],
      "execution_count": 61,
      "outputs": [
        {
          "output_type": "error",
          "ename": "TypeError",
          "evalue": "ignored",
          "traceback": [
            "\u001b[0;31m---------------------------------------------------------------------------\u001b[0m",
            "\u001b[0;31mTypeError\u001b[0m                                 Traceback (most recent call last)",
            "\u001b[0;32m<ipython-input-61-79c2310ee092>\u001b[0m in \u001b[0;36m<module>\u001b[0;34m()\u001b[0m\n\u001b[0;32m----> 1\u001b[0;31m \u001b[0mt\u001b[0m\u001b[0;34m[\u001b[0m\u001b[0;36m0\u001b[0m\u001b[0;34m]\u001b[0m \u001b[0;34m=\u001b[0m \u001b[0;34m'New'\u001b[0m\u001b[0;34m\u001b[0m\u001b[0;34m\u001b[0m\u001b[0m\n\u001b[0m",
            "\u001b[0;31mTypeError\u001b[0m: 'tuple' object does not support item assignment"
          ]
        }
      ]
    },
    {
      "cell_type": "code",
      "metadata": {
        "id": "_8pcwqbOqkEl",
        "outputId": "daa824f9-a732-401f-d60b-cfd3cc1feb07",
        "colab": {
          "base_uri": "https://localhost:8080/",
          "height": 88
        }
      },
      "source": [
        "for number in t: #Iterate over a tuple\n",
        "    print(number)"
      ],
      "execution_count": 63,
      "outputs": [
        {
          "output_type": "stream",
          "text": [
            "1\n",
            "2\n",
            "3\n",
            "4\n"
          ],
          "name": "stdout"
        }
      ]
    },
    {
      "cell_type": "code",
      "metadata": {
        "id": "wSYY2LdLqtLZ"
      },
      "source": [
        "del t"
      ],
      "execution_count": 64,
      "outputs": []
    },
    {
      "cell_type": "markdown",
      "metadata": {
        "id": "MScbIVOqqul6"
      },
      "source": [
        "##Sets"
      ]
    },
    {
      "cell_type": "code",
      "metadata": {
        "id": "AgbsznXBqxWw"
      },
      "source": [
        "s = {1,2,3} # We cannot access"
      ],
      "execution_count": 65,
      "outputs": []
    },
    {
      "cell_type": "code",
      "metadata": {
        "id": "yZP1u9Joq14e"
      },
      "source": [
        "s2 = {1,1,1,1,1,1,1,1,1,2,2,2,2,2,2,2,2,3,3,3,3,3,3}"
      ],
      "execution_count": 66,
      "outputs": []
    },
    {
      "cell_type": "code",
      "metadata": {
        "id": "5oQovrlZrFZA",
        "outputId": "a48f5d12-5ae0-4333-8f46-517bc6d90f6e",
        "colab": {
          "base_uri": "https://localhost:8080/",
          "height": 34
        }
      },
      "source": [
        "print(s2)"
      ],
      "execution_count": 67,
      "outputs": [
        {
          "output_type": "stream",
          "text": [
            "{1, 2, 3}\n"
          ],
          "name": "stdout"
        }
      ]
    },
    {
      "cell_type": "code",
      "metadata": {
        "id": "3z3zoeKyrIBM"
      },
      "source": [
        "s2.add(99)"
      ],
      "execution_count": 69,
      "outputs": []
    },
    {
      "cell_type": "code",
      "metadata": {
        "id": "R26jYU2LrLFN",
        "outputId": "6b47d89d-3be4-4fd0-cca5-4ec22865d396",
        "colab": {
          "base_uri": "https://localhost:8080/",
          "height": 34
        }
      },
      "source": [
        "print(s2)"
      ],
      "execution_count": 70,
      "outputs": [
        {
          "output_type": "stream",
          "text": [
            "{99, 1, 2, 3}\n"
          ],
          "name": "stdout"
        }
      ]
    },
    {
      "cell_type": "code",
      "metadata": {
        "id": "gDroCIL8rNep"
      },
      "source": [
        "s2.remove(3)"
      ],
      "execution_count": 71,
      "outputs": []
    },
    {
      "cell_type": "code",
      "metadata": {
        "id": "P7CKDTO4rPaQ",
        "outputId": "6eabbd57-241c-4f6d-a84e-7b7ac169f7cb",
        "colab": {
          "base_uri": "https://localhost:8080/",
          "height": 34
        }
      },
      "source": [
        "print(s2)"
      ],
      "execution_count": 72,
      "outputs": [
        {
          "output_type": "stream",
          "text": [
            "{99, 1, 2}\n"
          ],
          "name": "stdout"
        }
      ]
    },
    {
      "cell_type": "markdown",
      "metadata": {
        "id": "iy2BoHNOrRde"
      },
      "source": [
        "##Dictionaries"
      ]
    },
    {
      "cell_type": "code",
      "metadata": {
        "id": "0-bQpFjFrUOj"
      },
      "source": [
        "d = {'key1':'item1','key2':'item2'}"
      ],
      "execution_count": 73,
      "outputs": []
    },
    {
      "cell_type": "code",
      "metadata": {
        "id": "xrx17FJjrbG6",
        "outputId": "020c9320-56b8-4068-a227-10c2d7928dac",
        "colab": {
          "base_uri": "https://localhost:8080/",
          "height": 34
        }
      },
      "source": [
        "print(d)"
      ],
      "execution_count": 74,
      "outputs": [
        {
          "output_type": "stream",
          "text": [
            "{'key1': 'item1', 'key2': 'item2'}\n"
          ],
          "name": "stdout"
        }
      ]
    },
    {
      "cell_type": "code",
      "metadata": {
        "id": "OKSw4MRorc8B",
        "outputId": "8e683f05-902b-424f-cd16-63d614d2eb03",
        "colab": {
          "base_uri": "https://localhost:8080/",
          "height": 34
        }
      },
      "source": [
        "d['key1']"
      ],
      "execution_count": 75,
      "outputs": [
        {
          "output_type": "execute_result",
          "data": {
            "application/vnd.google.colaboratory.intrinsic+json": {
              "type": "string"
            },
            "text/plain": [
              "'item1'"
            ]
          },
          "metadata": {
            "tags": []
          },
          "execution_count": 75
        }
      ]
    },
    {
      "cell_type": "code",
      "metadata": {
        "id": "kxOg7-RkrfX1",
        "outputId": "c35dd361-8bd1-40a7-cf91-cc920b19e098",
        "colab": {
          "base_uri": "https://localhost:8080/",
          "height": 34
        }
      },
      "source": [
        "d.items()"
      ],
      "execution_count": 76,
      "outputs": [
        {
          "output_type": "execute_result",
          "data": {
            "text/plain": [
              "dict_items([('key1', 'item1'), ('key2', 'item2')])"
            ]
          },
          "metadata": {
            "tags": []
          },
          "execution_count": 76
        }
      ]
    },
    {
      "cell_type": "code",
      "metadata": {
        "id": "iafvaXPvrfd5"
      },
      "source": [
        "temp_dict = {'Suwon':26, 'Incheon' :24, 'Seoul':25}"
      ],
      "execution_count": 77,
      "outputs": []
    },
    {
      "cell_type": "code",
      "metadata": {
        "id": "aU-7oVcIrfg7",
        "outputId": "103135b3-465a-4304-cd19-7bca60a6082f",
        "colab": {
          "base_uri": "https://localhost:8080/",
          "height": 34
        }
      },
      "source": [
        "print(\"Temperature for Incheon:\", temp_dict['Incheon'])"
      ],
      "execution_count": 78,
      "outputs": [
        {
          "output_type": "stream",
          "text": [
            "Temperature for Incheon: 24\n"
          ],
          "name": "stdout"
        }
      ]
    },
    {
      "cell_type": "code",
      "metadata": {
        "id": "Fakh5MYrre7u",
        "outputId": "5c42ef43-cdd2-4a00-b64a-17afa4e11bae",
        "colab": {
          "base_uri": "https://localhost:8080/",
          "height": 34
        }
      },
      "source": [
        "temp_dict['Suwon'] = 25 #update values\n",
        "print(temp_dict)"
      ],
      "execution_count": 79,
      "outputs": [
        {
          "output_type": "stream",
          "text": [
            "{'Suwon': 25, 'Incheon': 24, 'Seoul': 25}\n"
          ],
          "name": "stdout"
        }
      ]
    },
    {
      "cell_type": "code",
      "metadata": {
        "id": "-9q21Q7Rr_gN",
        "outputId": "85571bc6-f38a-4e29-ab31-2232177c1510",
        "colab": {
          "base_uri": "https://localhost:8080/",
          "height": 70
        }
      },
      "source": [
        "#Loop through a dictionary\n",
        "for i_temp in temp_dict:\n",
        "  print(\"Key: \", i_temp, \"Value: \", temp_dict[i_temp])"
      ],
      "execution_count": 80,
      "outputs": [
        {
          "output_type": "stream",
          "text": [
            "Key:  Suwon Value:  25\n",
            "Key:  Incheon Value:  24\n",
            "Key:  Seoul Value:  25\n"
          ],
          "name": "stdout"
        }
      ]
    },
    {
      "cell_type": "markdown",
      "metadata": {
        "id": "8N77EK4GsQEB"
      },
      "source": [
        "##Comparison Operators"
      ]
    },
    {
      "cell_type": "code",
      "metadata": {
        "id": "Zs1ycHDAsPMW",
        "outputId": "e62d401d-8c2c-4ba0-b69b-632c807fa29e",
        "colab": {
          "base_uri": "https://localhost:8080/",
          "height": 34
        }
      },
      "source": [
        "1 > 2"
      ],
      "execution_count": 81,
      "outputs": [
        {
          "output_type": "execute_result",
          "data": {
            "text/plain": [
              "False"
            ]
          },
          "metadata": {
            "tags": []
          },
          "execution_count": 81
        }
      ]
    },
    {
      "cell_type": "code",
      "metadata": {
        "id": "6lWWKkwksWQY",
        "outputId": "46b724bf-ed0e-4af9-d18a-19361928ccc2",
        "colab": {
          "base_uri": "https://localhost:8080/",
          "height": 34
        }
      },
      "source": [
        "1<2"
      ],
      "execution_count": 82,
      "outputs": [
        {
          "output_type": "execute_result",
          "data": {
            "text/plain": [
              "True"
            ]
          },
          "metadata": {
            "tags": []
          },
          "execution_count": 82
        }
      ]
    },
    {
      "cell_type": "code",
      "metadata": {
        "id": "_zNetDpgsWOD",
        "outputId": "3fdefc53-7b4d-4237-ea30-a1336468908c",
        "colab": {
          "base_uri": "https://localhost:8080/",
          "height": 34
        }
      },
      "source": [
        "1 >= 1"
      ],
      "execution_count": 83,
      "outputs": [
        {
          "output_type": "execute_result",
          "data": {
            "text/plain": [
              "True"
            ]
          },
          "metadata": {
            "tags": []
          },
          "execution_count": 83
        }
      ]
    },
    {
      "cell_type": "code",
      "metadata": {
        "id": "neAXdpgIsWLd",
        "outputId": "abd50ac2-bace-4e8a-8164-7a8e6add43cd",
        "colab": {
          "base_uri": "https://localhost:8080/",
          "height": 34
        }
      },
      "source": [
        "1 <= 4"
      ],
      "execution_count": 84,
      "outputs": [
        {
          "output_type": "execute_result",
          "data": {
            "text/plain": [
              "True"
            ]
          },
          "metadata": {
            "tags": []
          },
          "execution_count": 84
        }
      ]
    },
    {
      "cell_type": "code",
      "metadata": {
        "id": "9jyCxOmcsbWb",
        "outputId": "fa4cee38-391f-4693-b233-32d4a72468d3",
        "colab": {
          "base_uri": "https://localhost:8080/",
          "height": 34
        }
      },
      "source": [
        "1 == 1"
      ],
      "execution_count": 85,
      "outputs": [
        {
          "output_type": "execute_result",
          "data": {
            "text/plain": [
              "True"
            ]
          },
          "metadata": {
            "tags": []
          },
          "execution_count": 85
        }
      ]
    },
    {
      "cell_type": "code",
      "metadata": {
        "id": "PiMFOKW6scYB",
        "outputId": "22dcc25c-1aeb-4a3c-f2b4-fef23ce1443a",
        "colab": {
          "base_uri": "https://localhost:8080/",
          "height": 34
        }
      },
      "source": [
        "'hi' == 'byee'"
      ],
      "execution_count": 86,
      "outputs": [
        {
          "output_type": "execute_result",
          "data": {
            "text/plain": [
              "False"
            ]
          },
          "metadata": {
            "tags": []
          },
          "execution_count": 86
        }
      ]
    },
    {
      "cell_type": "code",
      "metadata": {
        "id": "edMrhdM0sepx",
        "outputId": "7b8be516-2dd7-4edc-e66c-eb01824ea1f6",
        "colab": {
          "base_uri": "https://localhost:8080/",
          "height": 34
        }
      },
      "source": [
        "'hi' == 'hi'"
      ],
      "execution_count": 87,
      "outputs": [
        {
          "output_type": "execute_result",
          "data": {
            "text/plain": [
              "True"
            ]
          },
          "metadata": {
            "tags": []
          },
          "execution_count": 87
        }
      ]
    },
    {
      "cell_type": "code",
      "metadata": {
        "id": "IiI6TUZvsgyW",
        "outputId": "601667f7-3295-4230-bbfd-029ac9e43c17",
        "colab": {
          "base_uri": "https://localhost:8080/",
          "height": 34
        }
      },
      "source": [
        "#print code that returns True if 10 and 10 are equal\n",
        "10 == 10"
      ],
      "execution_count": 88,
      "outputs": [
        {
          "output_type": "execute_result",
          "data": {
            "text/plain": [
              "True"
            ]
          },
          "metadata": {
            "tags": []
          },
          "execution_count": 88
        }
      ]
    },
    {
      "cell_type": "markdown",
      "metadata": {
        "id": "vDvt7G7utjGu"
      },
      "source": [
        "##Logic Operators"
      ]
    },
    {
      "cell_type": "code",
      "metadata": {
        "id": "uBw3QB_8tin2",
        "outputId": "28bcb383-51d1-43bb-9633-78028371a8d0",
        "colab": {
          "base_uri": "https://localhost:8080/",
          "height": 34
        }
      },
      "source": [
        "(1 >2) and (2 < 3)"
      ],
      "execution_count": 89,
      "outputs": [
        {
          "output_type": "execute_result",
          "data": {
            "text/plain": [
              "False"
            ]
          },
          "metadata": {
            "tags": []
          },
          "execution_count": 89
        }
      ]
    },
    {
      "cell_type": "code",
      "metadata": {
        "id": "5ldQjYQtsnbe",
        "outputId": "dd596e08-6c58-4f73-e690-5202e53fb093",
        "colab": {
          "base_uri": "https://localhost:8080/",
          "height": 34
        }
      },
      "source": [
        "(1 > 2)  or (2 < 3)"
      ],
      "execution_count": 90,
      "outputs": [
        {
          "output_type": "execute_result",
          "data": {
            "text/plain": [
              "True"
            ]
          },
          "metadata": {
            "tags": []
          },
          "execution_count": 90
        }
      ]
    },
    {
      "cell_type": "code",
      "metadata": {
        "id": "AVGWxrWGt5un",
        "outputId": "f5133c92-58c8-440b-b1d5-048bf56ae863",
        "colab": {
          "base_uri": "https://localhost:8080/",
          "height": 34
        }
      },
      "source": [
        "(1 == 2) or (2 == 3) and (4 == 4)"
      ],
      "execution_count": 93,
      "outputs": [
        {
          "output_type": "execute_result",
          "data": {
            "text/plain": [
              "False"
            ]
          },
          "metadata": {
            "tags": []
          },
          "execution_count": 93
        }
      ]
    },
    {
      "cell_type": "code",
      "metadata": {
        "id": "6pbjbjpBso-L",
        "outputId": "ca358570-e0a1-432b-be45-c7aa85ab3210",
        "colab": {
          "base_uri": "https://localhost:8080/",
          "height": 34
        }
      },
      "source": [
        "#Change the following code so it evaluates to False: 1==1 and 3==3. print it.\n",
        "(not 1 == 1) and 3 == 3       #(1 != 1) and 3 == 3"
      ],
      "execution_count": 97,
      "outputs": [
        {
          "output_type": "execute_result",
          "data": {
            "text/plain": [
              "False"
            ]
          },
          "metadata": {
            "tags": []
          },
          "execution_count": 97
        }
      ]
    },
    {
      "cell_type": "markdown",
      "metadata": {
        "id": "wEFT_mB7vQ6s"
      },
      "source": [
        "### if, elif, else statements"
      ]
    },
    {
      "cell_type": "code",
      "metadata": {
        "id": "27VXFRjJsnWm",
        "outputId": "16c45bbe-7a02-4dc4-beb7-6d2536abb03d",
        "colab": {
          "base_uri": "https://localhost:8080/",
          "height": 34
        }
      },
      "source": [
        "if (1<2):\n",
        "  print(\"Yep!\")"
      ],
      "execution_count": 98,
      "outputs": [
        {
          "output_type": "stream",
          "text": [
            "Yep!\n"
          ],
          "name": "stdout"
        }
      ]
    },
    {
      "cell_type": "code",
      "metadata": {
        "id": "ABwukN-vsnUJ"
      },
      "source": [
        "if (1>2):\n",
        "  print(\"oh no~!\")"
      ],
      "execution_count": 99,
      "outputs": []
    },
    {
      "cell_type": "code",
      "metadata": {
        "id": "x_0oWd_4vwZR",
        "outputId": "9aefd88c-8a13-471e-c53b-2fea61883a61",
        "colab": {
          "base_uri": "https://localhost:8080/",
          "height": 34
        }
      },
      "source": [
        "if (1 < 2):\n",
        "  print(\"first\")\n",
        "else:\n",
        "  print(\"last\")"
      ],
      "execution_count": 100,
      "outputs": [
        {
          "output_type": "stream",
          "text": [
            "first\n"
          ],
          "name": "stdout"
        }
      ]
    },
    {
      "cell_type": "code",
      "metadata": {
        "id": "b7L8qcVnvwQa",
        "outputId": "7996406e-3be1-4935-ace6-05a471013583",
        "colab": {
          "base_uri": "https://localhost:8080/",
          "height": 34
        }
      },
      "source": [
        "if (1>2):\n",
        "  print(\"first\")\n",
        "else:\n",
        "  print(\"last\")"
      ],
      "execution_count": 101,
      "outputs": [
        {
          "output_type": "stream",
          "text": [
            "last\n"
          ],
          "name": "stdout"
        }
      ]
    },
    {
      "cell_type": "code",
      "metadata": {
        "id": "VIS-fe-KwdI_",
        "outputId": "082a18b8-b4cd-465d-8c48-fc8d7d45f0ae",
        "colab": {
          "base_uri": "https://localhost:8080/",
          "height": 34
        }
      },
      "source": [
        "if (1==2):\n",
        "  print('first')\n",
        "elif 3==3:\n",
        "  print('middle')\n",
        "else:\n",
        "  print('last')"
      ],
      "execution_count": 102,
      "outputs": [
        {
          "output_type": "stream",
          "text": [
            "middle\n"
          ],
          "name": "stdout"
        }
      ]
    },
    {
      "cell_type": "code",
      "metadata": {
        "id": "e0b6Tb8EyeTW",
        "outputId": "8398b228-f002-452c-88e2-b5e4dc96e71a",
        "colab": {
          "base_uri": "https://localhost:8080/",
          "height": 34
        }
      },
      "source": [
        "#Write a program that has a variable called temperature and print \"It is Hot!\" if the temperature is over 17\n",
        "#and \"It is cold!\" if is less than 17. Then assign the variable temperature to 21.\n",
        "temperature = 21\n",
        "if (temperature > 17):\n",
        "  print(\"It is Hot!\")\n",
        "else:\n",
        "  print(\"It is Cold!\")"
      ],
      "execution_count": 115,
      "outputs": [
        {
          "output_type": "stream",
          "text": [
            "It is Hot!\n"
          ],
          "name": "stdout"
        }
      ]
    },
    {
      "cell_type": "markdown",
      "metadata": {
        "id": "WBAb2YHAysqn"
      },
      "source": [
        "### For loops"
      ]
    },
    {
      "cell_type": "code",
      "metadata": {
        "id": "vZodUdCuww46"
      },
      "source": [
        "seq = [1,2,3,4,5]"
      ],
      "execution_count": 116,
      "outputs": []
    },
    {
      "cell_type": "code",
      "metadata": {
        "id": "nqlglTazyuDc",
        "outputId": "daa38663-3e82-4ea2-d975-ab494f83d9e5",
        "colab": {
          "base_uri": "https://localhost:8080/",
          "height": 106
        }
      },
      "source": [
        "for item in seq:\n",
        "  print(item)"
      ],
      "execution_count": 117,
      "outputs": [
        {
          "output_type": "stream",
          "text": [
            "1\n",
            "2\n",
            "3\n",
            "4\n",
            "5\n"
          ],
          "name": "stdout"
        }
      ]
    },
    {
      "cell_type": "code",
      "metadata": {
        "id": "6jH6AXm3wwmH",
        "outputId": "4b83d379-7b1f-4b0b-8b96-df42aa1e85cc",
        "colab": {
          "base_uri": "https://localhost:8080/",
          "height": 106
        }
      },
      "source": [
        "for i in seq:\n",
        "  print(\"Yep\")"
      ],
      "execution_count": 118,
      "outputs": [
        {
          "output_type": "stream",
          "text": [
            "Yep\n",
            "Yep\n",
            "Yep\n",
            "Yep\n",
            "Yep\n"
          ],
          "name": "stdout"
        }
      ]
    },
    {
      "cell_type": "code",
      "metadata": {
        "id": "wuDMq6dPwoK9",
        "outputId": "4f77804d-c9de-4218-cfab-da392cc22260",
        "colab": {
          "base_uri": "https://localhost:8080/",
          "height": 106
        }
      },
      "source": [
        "for j in seq:\n",
        "  print(j+j)"
      ],
      "execution_count": 119,
      "outputs": [
        {
          "output_type": "stream",
          "text": [
            "2\n",
            "4\n",
            "6\n",
            "8\n",
            "10\n"
          ],
          "name": "stdout"
        }
      ]
    },
    {
      "cell_type": "code",
      "metadata": {
        "id": "1Hji8rOQ1BJk",
        "outputId": "a8b5c86e-73cb-4d64-c461-300960e3464c",
        "colab": {
          "base_uri": "https://localhost:8080/",
          "height": 466
        }
      },
      "source": [
        "for i in seq: #seq index are from 0..4\n",
        "  for j in seq:  #seq index are from 0..4\n",
        "    print(\"i = {}, i_seq_index = {}  ---  j = {}, j_seq_index = {}\".format(i, seq.index(i), j, seq.index(j)))"
      ],
      "execution_count": 124,
      "outputs": [
        {
          "output_type": "stream",
          "text": [
            "i = 1, i_seq_index = 0  ---  j = 1, j_seq_index = 0\n",
            "i = 1, i_seq_index = 0  ---  j = 2, j_seq_index = 1\n",
            "i = 1, i_seq_index = 0  ---  j = 3, j_seq_index = 2\n",
            "i = 1, i_seq_index = 0  ---  j = 4, j_seq_index = 3\n",
            "i = 1, i_seq_index = 0  ---  j = 5, j_seq_index = 4\n",
            "i = 2, i_seq_index = 1  ---  j = 1, j_seq_index = 0\n",
            "i = 2, i_seq_index = 1  ---  j = 2, j_seq_index = 1\n",
            "i = 2, i_seq_index = 1  ---  j = 3, j_seq_index = 2\n",
            "i = 2, i_seq_index = 1  ---  j = 4, j_seq_index = 3\n",
            "i = 2, i_seq_index = 1  ---  j = 5, j_seq_index = 4\n",
            "i = 3, i_seq_index = 2  ---  j = 1, j_seq_index = 0\n",
            "i = 3, i_seq_index = 2  ---  j = 2, j_seq_index = 1\n",
            "i = 3, i_seq_index = 2  ---  j = 3, j_seq_index = 2\n",
            "i = 3, i_seq_index = 2  ---  j = 4, j_seq_index = 3\n",
            "i = 3, i_seq_index = 2  ---  j = 5, j_seq_index = 4\n",
            "i = 4, i_seq_index = 3  ---  j = 1, j_seq_index = 0\n",
            "i = 4, i_seq_index = 3  ---  j = 2, j_seq_index = 1\n",
            "i = 4, i_seq_index = 3  ---  j = 3, j_seq_index = 2\n",
            "i = 4, i_seq_index = 3  ---  j = 4, j_seq_index = 3\n",
            "i = 4, i_seq_index = 3  ---  j = 5, j_seq_index = 4\n",
            "i = 5, i_seq_index = 4  ---  j = 1, j_seq_index = 0\n",
            "i = 5, i_seq_index = 4  ---  j = 2, j_seq_index = 1\n",
            "i = 5, i_seq_index = 4  ---  j = 3, j_seq_index = 2\n",
            "i = 5, i_seq_index = 4  ---  j = 4, j_seq_index = 3\n",
            "i = 5, i_seq_index = 4  ---  j = 5, j_seq_index = 4\n"
          ],
          "name": "stdout"
        }
      ]
    },
    {
      "cell_type": "code",
      "metadata": {
        "id": "5W2dEqyD1BCP",
        "outputId": "7ef12f94-2eae-4e7c-fe64-01cc0d6ad2c9",
        "colab": {
          "base_uri": "https://localhost:8080/",
          "height": 88
        }
      },
      "source": [
        "#Print each item of the following list: ['Temperature', 'Wind_speed', 'Solar_elevation', 'is_Cloudy']\n",
        "for i in ['Temperature', 'Wind_speed', 'Solar_elevation', 'is_Cloudy']:\n",
        "  print(i)"
      ],
      "execution_count": 127,
      "outputs": [
        {
          "output_type": "stream",
          "text": [
            "Temperature\n",
            "Wind_speed\n",
            "Solar_elevation\n",
            "is_Cloudy\n"
          ],
          "name": "stdout"
        }
      ]
    },
    {
      "cell_type": "markdown",
      "metadata": {
        "id": "1p_Wpy4g2tTC"
      },
      "source": [
        "### While loops"
      ]
    },
    {
      "cell_type": "code",
      "metadata": {
        "id": "dKTQ9zS_zimK",
        "outputId": "5f9b1812-5b03-4ee5-e1e3-7a272a78998e",
        "colab": {
          "base_uri": "https://localhost:8080/",
          "height": 88
        }
      },
      "source": [
        "i = 1\n",
        "while (i<5):\n",
        "  print('i is :{}'.format(i))\n",
        "  i = i+1"
      ],
      "execution_count": 129,
      "outputs": [
        {
          "output_type": "stream",
          "text": [
            "i is :1\n",
            "i is :2\n",
            "i is :3\n",
            "i is :4\n"
          ],
          "name": "stdout"
        }
      ]
    },
    {
      "cell_type": "markdown",
      "metadata": {
        "id": "3x68lzpY3cgS"
      },
      "source": [
        "###range()"
      ]
    },
    {
      "cell_type": "code",
      "metadata": {
        "id": "aNS74nVI3e6l",
        "outputId": "c1b933e0-bd6a-49f4-8bc0-d62392397a6e",
        "colab": {
          "base_uri": "https://localhost:8080/",
          "height": 34
        }
      },
      "source": [
        "range(5)"
      ],
      "execution_count": 130,
      "outputs": [
        {
          "output_type": "execute_result",
          "data": {
            "text/plain": [
              "range(0, 5)"
            ]
          },
          "metadata": {
            "tags": []
          },
          "execution_count": 130
        }
      ]
    },
    {
      "cell_type": "code",
      "metadata": {
        "id": "of2QW_Tr3hjS",
        "outputId": "2cf864b0-e280-4712-b50e-242cd0ce5dd3",
        "colab": {
          "base_uri": "https://localhost:8080/",
          "height": 106
        }
      },
      "source": [
        "for i in range(5):\n",
        "  print(i)"
      ],
      "execution_count": 132,
      "outputs": [
        {
          "output_type": "stream",
          "text": [
            "0\n",
            "1\n",
            "2\n",
            "3\n",
            "4\n"
          ],
          "name": "stdout"
        }
      ]
    },
    {
      "cell_type": "code",
      "metadata": {
        "id": "yKlWX01b3hqu",
        "outputId": "ed2d10a5-f7de-4b95-c184-2eb829429e3f",
        "colab": {
          "base_uri": "https://localhost:8080/",
          "height": 34
        }
      },
      "source": [
        "list(range(5))"
      ],
      "execution_count": 133,
      "outputs": [
        {
          "output_type": "execute_result",
          "data": {
            "text/plain": [
              "[0, 1, 2, 3, 4]"
            ]
          },
          "metadata": {
            "tags": []
          },
          "execution_count": 133
        }
      ]
    },
    {
      "cell_type": "markdown",
      "metadata": {
        "id": "DNoz4Vk130R5"
      },
      "source": [
        "### list comprehension"
      ]
    },
    {
      "cell_type": "code",
      "metadata": {
        "id": "m__DAEeN33eM"
      },
      "source": [
        "x= [1,2,3,4] #list"
      ],
      "execution_count": 134,
      "outputs": []
    },
    {
      "cell_type": "code",
      "metadata": {
        "id": "jmjOtPd13hok",
        "outputId": "01d3e2d6-17fa-4f54-b58a-07b69a242068",
        "colab": {
          "base_uri": "https://localhost:8080/",
          "height": 34
        }
      },
      "source": [
        "out = []\n",
        "for item in x:\n",
        "  out.append(item**2)\n",
        "print(out)"
      ],
      "execution_count": 135,
      "outputs": [
        {
          "output_type": "stream",
          "text": [
            "[1, 4, 9, 16]\n"
          ],
          "name": "stdout"
        }
      ]
    },
    {
      "cell_type": "code",
      "metadata": {
        "id": "tqjAZpU53hgD",
        "outputId": "2757f521-6f72-489a-f251-dc3160564132",
        "colab": {
          "base_uri": "https://localhost:8080/",
          "height": 34
        }
      },
      "source": [
        "#sintax [expression for item in list]\n",
        "[item**2 for item in x]"
      ],
      "execution_count": 136,
      "outputs": [
        {
          "output_type": "execute_result",
          "data": {
            "text/plain": [
              "[1, 4, 9, 16]"
            ]
          },
          "metadata": {
            "tags": []
          },
          "execution_count": 136
        }
      ]
    },
    {
      "cell_type": "code",
      "metadata": {
        "id": "p8_0eelqzhcC"
      },
      "source": [
        "#if... else with list comprehension\n",
        "obj = [\"Even\" if i%2 == 0 else \"Odd\" for i in x]"
      ],
      "execution_count": 139,
      "outputs": []
    },
    {
      "cell_type": "code",
      "metadata": {
        "id": "R1a-FB795rfG",
        "outputId": "e9c8e44d-b6de-43d9-b2f8-cf35633c7d67",
        "colab": {
          "base_uri": "https://localhost:8080/",
          "height": 34
        }
      },
      "source": [
        "print(obj)"
      ],
      "execution_count": 140,
      "outputs": [
        {
          "output_type": "stream",
          "text": [
            "['Odd', 'Even', 'Odd', 'Even']\n"
          ],
          "name": "stdout"
        }
      ]
    },
    {
      "cell_type": "code",
      "metadata": {
        "id": "Cu6y0Uaw50Vg",
        "outputId": "91cd356a-7165-451f-87ff-732c13d22b2b",
        "colab": {
          "base_uri": "https://localhost:8080/",
          "height": 34
        }
      },
      "source": [
        "#Iterating though a string using a for loop tranfrom a string to list.\n",
        "h_letters = []\n",
        "for letter in 'weather change':\n",
        "  h_letters.append(letter)\n",
        "print(h_letters)"
      ],
      "execution_count": 142,
      "outputs": [
        {
          "output_type": "stream",
          "text": [
            "['w', 'e', 'a', 't', 'h', 'e', 'r', ' ', 'c', 'h', 'a', 'n', 'g', 'e']\n"
          ],
          "name": "stdout"
        }
      ]
    },
    {
      "cell_type": "code",
      "metadata": {
        "id": "J2rH3qwt50Y5"
      },
      "source": [
        "#homework use list comprehension in the upper code~~~ ^^\n",
        "#Submit to your github before Oct 21"
      ],
      "execution_count": null,
      "outputs": []
    },
    {
      "cell_type": "markdown",
      "metadata": {
        "id": "EeQZJmKU9kuW"
      },
      "source": [
        "### Functions"
      ]
    },
    {
      "cell_type": "code",
      "metadata": {
        "id": "LGUYy6iX50hz"
      },
      "source": [
        "def my_func(param1='default'):\n",
        "  \"\"\"\n",
        "  Docstring\n",
        "  \"\"\"\n",
        "  print(param1)"
      ],
      "execution_count": 144,
      "outputs": []
    },
    {
      "cell_type": "code",
      "metadata": {
        "id": "aGvl_maM50fU",
        "outputId": "c62b7044-ca2f-4f10-82fa-6876ef0ed56d",
        "colab": {
          "base_uri": "https://localhost:8080/",
          "height": 34
        }
      },
      "source": [
        "my_func"
      ],
      "execution_count": 145,
      "outputs": [
        {
          "output_type": "execute_result",
          "data": {
            "text/plain": [
              "<function __main__.my_func>"
            ]
          },
          "metadata": {
            "tags": []
          },
          "execution_count": 145
        }
      ]
    },
    {
      "cell_type": "code",
      "metadata": {
        "id": "kSgqBTlO5zsh",
        "outputId": "72850499-a80c-4157-c9c7-002cc1dc26ef",
        "colab": {
          "base_uri": "https://localhost:8080/",
          "height": 34
        }
      },
      "source": [
        "my_func()"
      ],
      "execution_count": 147,
      "outputs": [
        {
          "output_type": "stream",
          "text": [
            "default\n"
          ],
          "name": "stdout"
        }
      ]
    },
    {
      "cell_type": "code",
      "metadata": {
        "id": "mz5XrRzP-SAE",
        "outputId": "90cc6355-450d-4931-f99a-ad35e8e1908f",
        "colab": {
          "base_uri": "https://localhost:8080/",
          "height": 34
        }
      },
      "source": [
        "my_func('new param')"
      ],
      "execution_count": 149,
      "outputs": [
        {
          "output_type": "stream",
          "text": [
            "new param\n"
          ],
          "name": "stdout"
        }
      ]
    },
    {
      "cell_type": "code",
      "metadata": {
        "id": "1yD1D4uV-R9e",
        "outputId": "a1af18cd-d56d-4432-982c-a67501ff0701",
        "colab": {
          "base_uri": "https://localhost:8080/",
          "height": 34
        }
      },
      "source": [
        "my_func(param1='param 2')"
      ],
      "execution_count": 150,
      "outputs": [
        {
          "output_type": "stream",
          "text": [
            "param 2\n"
          ],
          "name": "stdout"
        }
      ]
    },
    {
      "cell_type": "code",
      "metadata": {
        "id": "UfDVGfRv-R6g"
      },
      "source": [
        "def square(x):\n",
        "  return x**2"
      ],
      "execution_count": 151,
      "outputs": []
    },
    {
      "cell_type": "code",
      "metadata": {
        "id": "EwNMm_IV-qSA"
      },
      "source": [
        "out = square(2)"
      ],
      "execution_count": 152,
      "outputs": []
    },
    {
      "cell_type": "code",
      "metadata": {
        "id": "Ln0PffC0-vlK",
        "outputId": "4b241650-d56f-44f7-ec94-7cd9c7356ab7",
        "colab": {
          "base_uri": "https://localhost:8080/",
          "height": 34
        }
      },
      "source": [
        "print(out)"
      ],
      "execution_count": 153,
      "outputs": [
        {
          "output_type": "stream",
          "text": [
            "4\n"
          ],
          "name": "stdout"
        }
      ]
    },
    {
      "cell_type": "code",
      "metadata": {
        "id": "lH0h0OXh-vn-"
      },
      "source": [
        "out = square(4)"
      ],
      "execution_count": 154,
      "outputs": []
    },
    {
      "cell_type": "code",
      "metadata": {
        "id": "P8PM2lUl-vq6",
        "outputId": "20c78d63-5c84-4687-d738-ecd08bf35d21",
        "colab": {
          "base_uri": "https://localhost:8080/",
          "height": 34
        }
      },
      "source": [
        "print(out)"
      ],
      "execution_count": 155,
      "outputs": [
        {
          "output_type": "stream",
          "text": [
            "16\n"
          ],
          "name": "stdout"
        }
      ]
    },
    {
      "cell_type": "code",
      "metadata": {
        "id": "THPGfYok-viT"
      },
      "source": [
        "#Tranform the for loop from string to a list in a function <<\n",
        "def string_to_list(str_param = 'weather change'):\n",
        "  h_letters = []\n",
        "  for letter in 'weather change':\n",
        "    h_letters.append(letter)\n",
        "  return(h_letters)"
      ],
      "execution_count": 164,
      "outputs": []
    },
    {
      "cell_type": "code",
      "metadata": {
        "id": "XZEB76CLBBiB",
        "outputId": "cff8369f-ecff-4772-8205-ac6d9a128bcf",
        "colab": {
          "base_uri": "https://localhost:8080/",
          "height": 34
        }
      },
      "source": [
        "new_variable_2 = string_to_list('INU')\n",
        "print(new_variable_2)"
      ],
      "execution_count": 167,
      "outputs": [
        {
          "output_type": "stream",
          "text": [
            "['w', 'e', 'a', 't', 'h', 'e', 'r', ' ', 'c', 'h', 'a', 'n', 'g', 'e']\n"
          ],
          "name": "stdout"
        }
      ]
    },
    {
      "cell_type": "markdown",
      "metadata": {
        "id": "fS_V0YdwBRsr"
      },
      "source": [
        "###lambda expressions\n"
      ]
    },
    {
      "cell_type": "code",
      "metadata": {
        "id": "njIv0QkQBVhq"
      },
      "source": [
        "def double(var):\n",
        "  return var*2"
      ],
      "execution_count": 168,
      "outputs": []
    },
    {
      "cell_type": "code",
      "metadata": {
        "id": "j-16TrnPBgvg",
        "outputId": "516473ff-1299-40f3-aa00-fecc313cb17d",
        "colab": {
          "base_uri": "https://localhost:8080/",
          "height": 34
        }
      },
      "source": [
        "double(4)"
      ],
      "execution_count": 169,
      "outputs": [
        {
          "output_type": "execute_result",
          "data": {
            "text/plain": [
              "8"
            ]
          },
          "metadata": {
            "tags": []
          },
          "execution_count": 169
        }
      ]
    },
    {
      "cell_type": "code",
      "metadata": {
        "id": "JvKWqvUqBhEm",
        "outputId": "4004d324-2a5c-4992-ad4f-18a1ec137c12",
        "colab": {
          "base_uri": "https://localhost:8080/",
          "height": 34
        }
      },
      "source": [
        "# lambda arguments : expression\n",
        "lambda var : var * 2"
      ],
      "execution_count": 170,
      "outputs": [
        {
          "output_type": "execute_result",
          "data": {
            "text/plain": [
              "<function __main__.<lambda>>"
            ]
          },
          "metadata": {
            "tags": []
          },
          "execution_count": 170
        }
      ]
    },
    {
      "cell_type": "code",
      "metadata": {
        "id": "JH3tzkSbBVpx",
        "outputId": "03f4866a-ec73-4595-e52a-8ebaaf661dcf",
        "colab": {
          "base_uri": "https://localhost:8080/",
          "height": 34
        }
      },
      "source": [
        "def sum_ten(x):\n",
        "  return x+10\n",
        "y = sum_ten(5)\n",
        "print(y)"
      ],
      "execution_count": 172,
      "outputs": [
        {
          "output_type": "stream",
          "text": [
            "15\n"
          ],
          "name": "stdout"
        }
      ]
    },
    {
      "cell_type": "code",
      "metadata": {
        "id": "-BAUSJZUBU6Z",
        "outputId": "dc69c344-3855-450d-f34d-fe38e419f233",
        "colab": {
          "base_uri": "https://localhost:8080/",
          "height": 34
        }
      },
      "source": [
        "y = lambda x : x+10\n",
        "print(y(5))"
      ],
      "execution_count": 173,
      "outputs": [
        {
          "output_type": "stream",
          "text": [
            "15\n"
          ],
          "name": "stdout"
        }
      ]
    },
    {
      "cell_type": "code",
      "metadata": {
        "id": "Pddcd-FaCZNf",
        "outputId": "3f0e6735-1aa6-43f8-b21b-81e849c0b056",
        "colab": {
          "base_uri": "https://localhost:8080/",
          "height": 34
        }
      },
      "source": [
        "num = 13\n",
        "even_odd = lambda i : \"Even\" if i%2 == 0 else \"Odd\"\n",
        "print(even_odd(num))"
      ],
      "execution_count": 174,
      "outputs": [
        {
          "output_type": "stream",
          "text": [
            "Odd\n"
          ],
          "name": "stdout"
        }
      ]
    },
    {
      "cell_type": "markdown",
      "metadata": {
        "id": "R2R3JFxsC7No"
      },
      "source": [
        "### map, reduce, filter and zip"
      ]
    },
    {
      "cell_type": "code",
      "metadata": {
        "id": "u9Lqhi9IC0pn"
      },
      "source": [
        "seq = list(range(10))  #  = [0,...,9]"
      ],
      "execution_count": 175,
      "outputs": []
    },
    {
      "cell_type": "code",
      "metadata": {
        "id": "DGhoLdWTDMwH",
        "outputId": "3fb2c956-903e-493f-c851-37eff349c085",
        "colab": {
          "base_uri": "https://localhost:8080/",
          "height": 34
        }
      },
      "source": [
        "map (double, seq)  #map(func, iterable)"
      ],
      "execution_count": 176,
      "outputs": [
        {
          "output_type": "execute_result",
          "data": {
            "text/plain": [
              "<map at 0x7f0246cbe390>"
            ]
          },
          "metadata": {
            "tags": []
          },
          "execution_count": 176
        }
      ]
    },
    {
      "cell_type": "code",
      "metadata": {
        "id": "cy3RqtLmDeAH",
        "outputId": "08e35bec-6024-47f8-83c3-d9eaf4ec7d1d",
        "colab": {
          "base_uri": "https://localhost:8080/",
          "height": 34
        }
      },
      "source": [
        "list(map(double, seq))"
      ],
      "execution_count": 177,
      "outputs": [
        {
          "output_type": "execute_result",
          "data": {
            "text/plain": [
              "[0, 2, 4, 6, 8, 10, 12, 14, 16, 18]"
            ]
          },
          "metadata": {
            "tags": []
          },
          "execution_count": 177
        }
      ]
    },
    {
      "cell_type": "code",
      "metadata": {
        "id": "q7SMZihfDmq0",
        "outputId": "d68e6dc3-c7fb-4d3a-8ce3-d1b02ab30cfc",
        "colab": {
          "base_uri": "https://localhost:8080/",
          "height": 34
        }
      },
      "source": [
        "list(map(lambda var: var*2, seq))"
      ],
      "execution_count": 178,
      "outputs": [
        {
          "output_type": "execute_result",
          "data": {
            "text/plain": [
              "[0, 2, 4, 6, 8, 10, 12, 14, 16, 18]"
            ]
          },
          "metadata": {
            "tags": []
          },
          "execution_count": 178
        }
      ]
    },
    {
      "cell_type": "code",
      "metadata": {
        "id": "cixzShxHEB9q"
      },
      "source": [
        "#Homework transform the string to a list function to a lambda expresion with map"
      ],
      "execution_count": 179,
      "outputs": []
    },
    {
      "cell_type": "code",
      "metadata": {
        "id": "iLU1LoxrEVsa",
        "outputId": "0e81fb37-f00e-4a7f-f584-9cdd543aeb1d",
        "colab": {
          "base_uri": "https://localhost:8080/",
          "height": 34
        }
      },
      "source": [
        "#filter (func, iterable)\n",
        "filter (lambda item: item%2 == 0, seq)"
      ],
      "execution_count": 180,
      "outputs": [
        {
          "output_type": "execute_result",
          "data": {
            "text/plain": [
              "<filter at 0x7f0246cbebe0>"
            ]
          },
          "metadata": {
            "tags": []
          },
          "execution_count": 180
        }
      ]
    },
    {
      "cell_type": "code",
      "metadata": {
        "id": "hXW0sHMuEnLJ",
        "outputId": "a18da549-d959-4ef1-8a1c-5b4b4f59ab7d",
        "colab": {
          "base_uri": "https://localhost:8080/",
          "height": 34
        }
      },
      "source": [
        "list(filter(lambda item: item%2 == 0, seq))"
      ],
      "execution_count": 182,
      "outputs": [
        {
          "output_type": "execute_result",
          "data": {
            "text/plain": [
              "[0, 2, 4, 6, 8]"
            ]
          },
          "metadata": {
            "tags": []
          },
          "execution_count": 182
        }
      ]
    },
    {
      "cell_type": "code",
      "metadata": {
        "id": "Z-pecFk4E7rq"
      },
      "source": [
        "#homework remove \" \" from a string_to_list\n",
        "#['w', 'e', 'a', 't', 'h', 'e', 'r', ' ', 'c', 'h', 'a', 'n', 'g', 'e'] ->\n",
        "#['w', 'e', 'a', 't', 'h', 'e', 'r', 'c', 'h', 'a', 'n', 'g', 'e']"
      ],
      "execution_count": 183,
      "outputs": []
    },
    {
      "cell_type": "code",
      "metadata": {
        "id": "vIW4EAaKFiEr"
      },
      "source": [
        "from functools import reduce #reduce(func, iterable)"
      ],
      "execution_count": 184,
      "outputs": []
    },
    {
      "cell_type": "code",
      "metadata": {
        "id": "meCBr_xLFy6h",
        "outputId": "7e3f0815-ae65-4a43-e70d-9d9c602852bd",
        "colab": {
          "base_uri": "https://localhost:8080/",
          "height": 34
        }
      },
      "source": [
        "reduce (lambda x,y: x+y, range(4)) # = 0+1+2+3"
      ],
      "execution_count": 185,
      "outputs": [
        {
          "output_type": "execute_result",
          "data": {
            "text/plain": [
              "6"
            ]
          },
          "metadata": {
            "tags": []
          },
          "execution_count": 185
        }
      ]
    },
    {
      "cell_type": "code",
      "metadata": {
        "id": "lCzjQFp-GFSP",
        "outputId": "de722622-b7a3-481e-b6a7-ebf9ca3d14e0",
        "colab": {
          "base_uri": "https://localhost:8080/",
          "height": 34
        }
      },
      "source": [
        "reduce (lambda x,y: x*y, [1,2,3,4]) # = 1*2*3*4"
      ],
      "execution_count": 186,
      "outputs": [
        {
          "output_type": "execute_result",
          "data": {
            "text/plain": [
              "24"
            ]
          },
          "metadata": {
            "tags": []
          },
          "execution_count": 186
        }
      ]
    },
    {
      "cell_type": "code",
      "metadata": {
        "id": "HSOFxnt4GdXf",
        "outputId": "aa17bece-8852-43df-9f49-e87d1456ef0a",
        "colab": {
          "base_uri": "https://localhost:8080/",
          "height": 34
        }
      },
      "source": [
        "#zip\n",
        "coordinate = ['x', 'y', 'z']\n",
        "value = [3,4,5]\n",
        "\n",
        "result = zip(coordinate, value) #zip(iterables)\n",
        "result_list = list(result)\n",
        "print(result_list)"
      ],
      "execution_count": 189,
      "outputs": [
        {
          "output_type": "stream",
          "text": [
            "[('x', 3), ('y', 4), ('z', 5)]\n"
          ],
          "name": "stdout"
        }
      ]
    }
  ]
}